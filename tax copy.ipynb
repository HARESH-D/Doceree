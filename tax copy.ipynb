{
 "cells": [
  {
   "cell_type": "code",
   "execution_count": 8,
   "metadata": {},
   "outputs": [],
   "source": [
    "import pandas as pd\n",
    "from sklearn.model_selection import train_test_split\n",
    "from sklearn.metrics import accuracy_score\n",
    "from sklearn.preprocessing import LabelEncoder\n",
    "from sklearn.impute import SimpleImputer\n",
    "from sklearn.feature_selection import SelectKBest, f_classif\n",
    "from sklearn.tree import DecisionTreeClassifier\n",
    "from sklearn.ensemble import RandomForestClassifier\n",
    "from sklearn.ensemble import BaggingClassifier\n",
    "from sklearn.ensemble import AdaBoostClassifier\n",
    "from sklearn.linear_model import LogisticRegression"
   ]
  },
  {
   "cell_type": "code",
   "execution_count": 26,
   "metadata": {},
   "outputs": [],
   "source": [
    "# Load the dataset\n",
    "df = pd.read_csv('Doceree_Complete_DataSet\\Doceree-HCP_Train.csv', encoding='latin1')"
   ]
  },
  {
   "cell_type": "code",
   "execution_count": 27,
   "metadata": {},
   "outputs": [],
   "source": [
    "# Drop the 'is_hcp' column\n",
    "df = df.drop(['IS_HCP'], axis=1)"
   ]
  },
  {
   "cell_type": "code",
   "execution_count": 28,
   "metadata": {},
   "outputs": [
    {
     "data": {
      "text/html": [
       "<div>\n",
       "<style scoped>\n",
       "    .dataframe tbody tr th:only-of-type {\n",
       "        vertical-align: middle;\n",
       "    }\n",
       "\n",
       "    .dataframe tbody tr th {\n",
       "        vertical-align: top;\n",
       "    }\n",
       "\n",
       "    .dataframe thead th {\n",
       "        text-align: right;\n",
       "    }\n",
       "</style>\n",
       "<table border=\"1\" class=\"dataframe\">\n",
       "  <thead>\n",
       "    <tr style=\"text-align: right;\">\n",
       "      <th></th>\n",
       "      <th>ID</th>\n",
       "      <th>DEVICETYPE</th>\n",
       "      <th>PLATFORM_ID</th>\n",
       "      <th>BIDREQUESTIP</th>\n",
       "      <th>USERPLATFORMUID</th>\n",
       "      <th>USERCITY</th>\n",
       "      <th>USERZIPCODE</th>\n",
       "      <th>USERAGENT</th>\n",
       "      <th>PLATFORMTYPE</th>\n",
       "      <th>CHANNELTYPE</th>\n",
       "      <th>URL</th>\n",
       "      <th>KEYWORDS</th>\n",
       "      <th>TAXONOMY</th>\n",
       "    </tr>\n",
       "  </thead>\n",
       "  <tbody>\n",
       "    <tr>\n",
       "      <th>0</th>\n",
       "      <td>1001</td>\n",
       "      <td>Desktop</td>\n",
       "      <td>2</td>\n",
       "      <td>170.173.0.22</td>\n",
       "      <td>6974dcaa-f932-480e-9fb5-c52e20e1393a</td>\n",
       "      <td>Portland</td>\n",
       "      <td>97206.0</td>\n",
       "      <td>Mozilla/5.0 (Windows NT 10.0; Win64; x64) Appl...</td>\n",
       "      <td>Online Medical Journal</td>\n",
       "      <td>Website</td>\n",
       "      <td>https://www.cancertherapyadvisor.com/home/canc...</td>\n",
       "      <td>General|Endocrine|False|Medicine|Surgery|Urolo...</td>\n",
       "      <td>NaN</td>\n",
       "    </tr>\n",
       "    <tr>\n",
       "      <th>1</th>\n",
       "      <td>1002</td>\n",
       "      <td>Desktop</td>\n",
       "      <td>2</td>\n",
       "      <td>65.216.253.25</td>\n",
       "      <td>c12f3f8f-8fcf-484a-90e1-1ac04db8cdcf</td>\n",
       "      <td>Arlington</td>\n",
       "      <td>22202.0</td>\n",
       "      <td>Mozilla/5.0 (Macintosh; Intel Mac OS X 10_15_7...</td>\n",
       "      <td>Online Medical Journal</td>\n",
       "      <td>Website</td>\n",
       "      <td>https://www.cancertherapyadvisor.com/home/deci...</td>\n",
       "      <td>Bone Marrow|Radiography|Chronic|Oncology|Psych...</td>\n",
       "      <td>NaN</td>\n",
       "    </tr>\n",
       "    <tr>\n",
       "      <th>2</th>\n",
       "      <td>1003</td>\n",
       "      <td>Desktop</td>\n",
       "      <td>2</td>\n",
       "      <td>66.232.79.22</td>\n",
       "      <td>a698de4b-e200-46dd-b5fb-40402175ae18</td>\n",
       "      <td>New Meadows</td>\n",
       "      <td>83654.0</td>\n",
       "      <td>Mozilla/5.0 (Macintosh; Intel Mac OS X 10_15_7...</td>\n",
       "      <td>Online Medical Journal</td>\n",
       "      <td>Website</td>\n",
       "      <td>https://www.cancertherapyadvisor.com/home/canc...</td>\n",
       "      <td>General|Endocrine|False|Medicine|Surgery|Urolo...</td>\n",
       "      <td>NaN</td>\n",
       "    </tr>\n",
       "    <tr>\n",
       "      <th>3</th>\n",
       "      <td>1004</td>\n",
       "      <td>Desktop</td>\n",
       "      <td>3</td>\n",
       "      <td>137.54.125.246</td>\n",
       "      <td>45967533-75c8-4fbd-a00c-e6ff20447aaa</td>\n",
       "      <td>NaN</td>\n",
       "      <td>229114624.0</td>\n",
       "      <td>Mozilla/5.0 (Windows NT 10.0; Win64; x64) Appl...</td>\n",
       "      <td>Online Medical Journal</td>\n",
       "      <td>Website</td>\n",
       "      <td>https://globalrph.com/medcalcs/warfarin-mainte...</td>\n",
       "      <td>Dental|Total|Clinical|Pharmacology|Physicians|...</td>\n",
       "      <td>2084P0800X</td>\n",
       "    </tr>\n",
       "    <tr>\n",
       "      <th>4</th>\n",
       "      <td>1005</td>\n",
       "      <td>Mobile</td>\n",
       "      <td>7</td>\n",
       "      <td>174.202.231.99</td>\n",
       "      <td>a17e25be-532d-4cf5-b916-9308c8c3961f</td>\n",
       "      <td>Houston</td>\n",
       "      <td>77008.0</td>\n",
       "      <td>Mozilla/5.0 (iPhone; CPU iPhone OS 16_1_1 like...</td>\n",
       "      <td>Online Medical Journal</td>\n",
       "      <td>Website</td>\n",
       "      <td>https://www.cureus.com/articles/58184-a-review...</td>\n",
       "      <td>Critical Care|Emergency Medicine|General Pract...</td>\n",
       "      <td>NaN</td>\n",
       "    </tr>\n",
       "    <tr>\n",
       "      <th>...</th>\n",
       "      <td>...</td>\n",
       "      <td>...</td>\n",
       "      <td>...</td>\n",
       "      <td>...</td>\n",
       "      <td>...</td>\n",
       "      <td>...</td>\n",
       "      <td>...</td>\n",
       "      <td>...</td>\n",
       "      <td>...</td>\n",
       "      <td>...</td>\n",
       "      <td>...</td>\n",
       "      <td>...</td>\n",
       "      <td>...</td>\n",
       "    </tr>\n",
       "    <tr>\n",
       "      <th>113932</th>\n",
       "      <td>114933</td>\n",
       "      <td>Desktop</td>\n",
       "      <td>2</td>\n",
       "      <td>68.82.97.126</td>\n",
       "      <td>051e4a06-4cb4-4b97-b0b1-d1c6a2b8e2c2</td>\n",
       "      <td>Philadelphia</td>\n",
       "      <td>19120.0</td>\n",
       "      <td>Mozilla/5.0 (Macintosh; Intel Mac OS X 10_15_6...</td>\n",
       "      <td>Online Medical Journal</td>\n",
       "      <td>Website</td>\n",
       "      <td>https://www.clinicaladvisor.com/home/consultat...</td>\n",
       "      <td>Cardiovascular|Clinical|False|Male|Oncology|Ps...</td>\n",
       "      <td>207RP1001X</td>\n",
       "    </tr>\n",
       "    <tr>\n",
       "      <th>113933</th>\n",
       "      <td>114934</td>\n",
       "      <td>Desktop</td>\n",
       "      <td>2</td>\n",
       "      <td>104.172.11.109</td>\n",
       "      <td>3289bba5-4a50-4b61-a5cc-68596bbdc2bf</td>\n",
       "      <td>Van Nuys</td>\n",
       "      <td>914014213.0</td>\n",
       "      <td>Mozilla/5.0 (Windows NT 6.1; Win64; x64) Apple...</td>\n",
       "      <td>Online Medical Journal</td>\n",
       "      <td>Website</td>\n",
       "      <td>https://www.clinicaladvisor.com/home/features/...</td>\n",
       "      <td>Asthma|Arthritis|General|Clinical|Diagnosis|Rh...</td>\n",
       "      <td>2084P0800X</td>\n",
       "    </tr>\n",
       "    <tr>\n",
       "      <th>113934</th>\n",
       "      <td>114935</td>\n",
       "      <td>Desktop</td>\n",
       "      <td>7</td>\n",
       "      <td>174.21.94.113</td>\n",
       "      <td>9c36e90c-caa7-4323-8431-fb84f8293972</td>\n",
       "      <td>NaN</td>\n",
       "      <td>98105.0</td>\n",
       "      <td>Mozilla/5.0 (Macintosh; Intel Mac OS X 10_15_7...</td>\n",
       "      <td>Online Medical Journal</td>\n",
       "      <td>Website</td>\n",
       "      <td>https://www.cureus.com/articles/39455-whats-th...</td>\n",
       "      <td>Rehabilitation|Transplantation|Clinical|Preven...</td>\n",
       "      <td>208000000X</td>\n",
       "    </tr>\n",
       "    <tr>\n",
       "      <th>113935</th>\n",
       "      <td>114936</td>\n",
       "      <td>Mobile</td>\n",
       "      <td>2</td>\n",
       "      <td>69.253.129.131</td>\n",
       "      <td>afc27760-31f7-4f6e-aa08-90d8a96525d0</td>\n",
       "      <td>Wilmington</td>\n",
       "      <td>19808.0</td>\n",
       "      <td>Mozilla/5.0 (iPhone; CPU iPhone OS 15_6_1 like...</td>\n",
       "      <td>Online Medical Journal</td>\n",
       "      <td>Website</td>\n",
       "      <td>https://www.dermatologyadvisor.com/home/topics...</td>\n",
       "      <td>pain|disease|autoimmune|multiple sclerosis|gra...</td>\n",
       "      <td>2084P0800X</td>\n",
       "    </tr>\n",
       "    <tr>\n",
       "      <th>113936</th>\n",
       "      <td>114937</td>\n",
       "      <td>Mobile</td>\n",
       "      <td>2</td>\n",
       "      <td>108.41.233.175</td>\n",
       "      <td>d26887c5-15f9-4b72-80dc-728039529e60</td>\n",
       "      <td>White Plains</td>\n",
       "      <td>10605.0</td>\n",
       "      <td>Mozilla/5.0 (iPhone; CPU iPhone OS 16_1 like M...</td>\n",
       "      <td>Online Medical Journal</td>\n",
       "      <td>Website</td>\n",
       "      <td>https://www.medicalbag.com/</td>\n",
       "      <td>Genetic|Large|Autoimmune|Health|False|Abortion...</td>\n",
       "      <td>2084P0800X</td>\n",
       "    </tr>\n",
       "  </tbody>\n",
       "</table>\n",
       "<p>113937 rows × 13 columns</p>\n",
       "</div>"
      ],
      "text/plain": [
       "            ID DEVICETYPE  PLATFORM_ID    BIDREQUESTIP  \\\n",
       "0         1001    Desktop            2    170.173.0.22   \n",
       "1         1002    Desktop            2   65.216.253.25   \n",
       "2         1003    Desktop            2    66.232.79.22   \n",
       "3         1004    Desktop            3  137.54.125.246   \n",
       "4         1005     Mobile            7  174.202.231.99   \n",
       "...        ...        ...          ...             ...   \n",
       "113932  114933    Desktop            2    68.82.97.126   \n",
       "113933  114934    Desktop            2  104.172.11.109   \n",
       "113934  114935    Desktop            7   174.21.94.113   \n",
       "113935  114936     Mobile            2  69.253.129.131   \n",
       "113936  114937     Mobile            2  108.41.233.175   \n",
       "\n",
       "                             USERPLATFORMUID      USERCITY  USERZIPCODE  \\\n",
       "0       6974dcaa-f932-480e-9fb5-c52e20e1393a      Portland      97206.0   \n",
       "1       c12f3f8f-8fcf-484a-90e1-1ac04db8cdcf     Arlington      22202.0   \n",
       "2       a698de4b-e200-46dd-b5fb-40402175ae18   New Meadows      83654.0   \n",
       "3       45967533-75c8-4fbd-a00c-e6ff20447aaa           NaN  229114624.0   \n",
       "4       a17e25be-532d-4cf5-b916-9308c8c3961f       Houston      77008.0   \n",
       "...                                      ...           ...          ...   \n",
       "113932  051e4a06-4cb4-4b97-b0b1-d1c6a2b8e2c2  Philadelphia      19120.0   \n",
       "113933  3289bba5-4a50-4b61-a5cc-68596bbdc2bf      Van Nuys  914014213.0   \n",
       "113934  9c36e90c-caa7-4323-8431-fb84f8293972           NaN      98105.0   \n",
       "113935  afc27760-31f7-4f6e-aa08-90d8a96525d0    Wilmington      19808.0   \n",
       "113936  d26887c5-15f9-4b72-80dc-728039529e60  White Plains      10605.0   \n",
       "\n",
       "                                                USERAGENT  \\\n",
       "0       Mozilla/5.0 (Windows NT 10.0; Win64; x64) Appl...   \n",
       "1       Mozilla/5.0 (Macintosh; Intel Mac OS X 10_15_7...   \n",
       "2       Mozilla/5.0 (Macintosh; Intel Mac OS X 10_15_7...   \n",
       "3       Mozilla/5.0 (Windows NT 10.0; Win64; x64) Appl...   \n",
       "4       Mozilla/5.0 (iPhone; CPU iPhone OS 16_1_1 like...   \n",
       "...                                                   ...   \n",
       "113932  Mozilla/5.0 (Macintosh; Intel Mac OS X 10_15_6...   \n",
       "113933  Mozilla/5.0 (Windows NT 6.1; Win64; x64) Apple...   \n",
       "113934  Mozilla/5.0 (Macintosh; Intel Mac OS X 10_15_7...   \n",
       "113935  Mozilla/5.0 (iPhone; CPU iPhone OS 15_6_1 like...   \n",
       "113936  Mozilla/5.0 (iPhone; CPU iPhone OS 16_1 like M...   \n",
       "\n",
       "                  PLATFORMTYPE CHANNELTYPE  \\\n",
       "0       Online Medical Journal     Website   \n",
       "1       Online Medical Journal     Website   \n",
       "2       Online Medical Journal     Website   \n",
       "3       Online Medical Journal     Website   \n",
       "4       Online Medical Journal     Website   \n",
       "...                        ...         ...   \n",
       "113932  Online Medical Journal     Website   \n",
       "113933  Online Medical Journal     Website   \n",
       "113934  Online Medical Journal     Website   \n",
       "113935  Online Medical Journal     Website   \n",
       "113936  Online Medical Journal     Website   \n",
       "\n",
       "                                                      URL  \\\n",
       "0       https://www.cancertherapyadvisor.com/home/canc...   \n",
       "1       https://www.cancertherapyadvisor.com/home/deci...   \n",
       "2       https://www.cancertherapyadvisor.com/home/canc...   \n",
       "3       https://globalrph.com/medcalcs/warfarin-mainte...   \n",
       "4       https://www.cureus.com/articles/58184-a-review...   \n",
       "...                                                   ...   \n",
       "113932  https://www.clinicaladvisor.com/home/consultat...   \n",
       "113933  https://www.clinicaladvisor.com/home/features/...   \n",
       "113934  https://www.cureus.com/articles/39455-whats-th...   \n",
       "113935  https://www.dermatologyadvisor.com/home/topics...   \n",
       "113936                        https://www.medicalbag.com/   \n",
       "\n",
       "                                                 KEYWORDS    TAXONOMY  \n",
       "0       General|Endocrine|False|Medicine|Surgery|Urolo...         NaN  \n",
       "1       Bone Marrow|Radiography|Chronic|Oncology|Psych...         NaN  \n",
       "2       General|Endocrine|False|Medicine|Surgery|Urolo...         NaN  \n",
       "3       Dental|Total|Clinical|Pharmacology|Physicians|...  2084P0800X  \n",
       "4       Critical Care|Emergency Medicine|General Pract...         NaN  \n",
       "...                                                   ...         ...  \n",
       "113932  Cardiovascular|Clinical|False|Male|Oncology|Ps...  207RP1001X  \n",
       "113933  Asthma|Arthritis|General|Clinical|Diagnosis|Rh...  2084P0800X  \n",
       "113934  Rehabilitation|Transplantation|Clinical|Preven...  208000000X  \n",
       "113935  pain|disease|autoimmune|multiple sclerosis|gra...  2084P0800X  \n",
       "113936  Genetic|Large|Autoimmune|Health|False|Abortion...  2084P0800X  \n",
       "\n",
       "[113937 rows x 13 columns]"
      ]
     },
     "execution_count": 28,
     "metadata": {},
     "output_type": "execute_result"
    }
   ],
   "source": [
    "df"
   ]
  },
  {
   "cell_type": "code",
   "execution_count": 29,
   "metadata": {},
   "outputs": [],
   "source": [
    "# Split the dataset into features (X) and target (y)\n",
    "X = df.drop('TAXONOMY', axis=1)\n",
    "y = df['TAXONOMY']"
   ]
  },
  {
   "cell_type": "code",
   "execution_count": 30,
   "metadata": {},
   "outputs": [],
   "source": [
    "# Perform label encoding for categorical columns in X\n",
    "categorical_cols = X.select_dtypes(include=['object']).columns\n",
    "label_encoder = LabelEncoder()\n",
    "for col in categorical_cols:\n",
    "    X[col] = label_encoder.fit_transform(X[col].astype(str))"
   ]
  },
  {
   "cell_type": "code",
   "execution_count": 31,
   "metadata": {},
   "outputs": [],
   "source": [
    "# Handle missing values in X\n",
    "imputer = SimpleImputer(strategy='mean')\n",
    "X = pd.DataFrame(imputer.fit_transform(X), columns=X.columns)\n",
    "\n",
    "# Handle missing values in y\n",
    "y = y.fillna('Unknown')"
   ]
  },
  {
   "cell_type": "code",
   "execution_count": 32,
   "metadata": {},
   "outputs": [
    {
     "name": "stderr",
     "output_type": "stream",
     "text": [
      "c:\\Users\\Haresh\\anaconda3\\envs\\tf_gpu\\lib\\site-packages\\sklearn\\feature_selection\\_univariate_selection.py:112: UserWarning: Features [9] are constant.\n",
      "  warnings.warn(\"Features %s are constant.\" % constant_features_idx, UserWarning)\n",
      "c:\\Users\\Haresh\\anaconda3\\envs\\tf_gpu\\lib\\site-packages\\sklearn\\feature_selection\\_univariate_selection.py:113: RuntimeWarning: invalid value encountered in divide\n",
      "  f = msb / msw\n"
     ]
    }
   ],
   "source": [
    "# Perform feature selection\n",
    "k = 10 # Number of features to select\n",
    "feature_selector = SelectKBest(score_func=f_classif, k=k)\n",
    "X_selected = feature_selector.fit_transform(X, y)"
   ]
  },
  {
   "cell_type": "code",
   "execution_count": 33,
   "metadata": {},
   "outputs": [],
   "source": [
    "# Split the data into training and testing sets\n",
    "X_train, X_test, y_train, y_test = train_test_split(X_selected, y, test_size=0.2, random_state=42)"
   ]
  },
  {
   "cell_type": "code",
   "execution_count": 34,
   "metadata": {},
   "outputs": [
    {
     "name": "stdout",
     "output_type": "stream",
     "text": [
      "Random Forest Accuracy: 0.9152185360716166\n"
     ]
    }
   ],
   "source": [
    "# Initialize the classifiers\n",
    "classifiers = {\n",
    "    'Random Forest': RandomForestClassifier(),\n",
    "}\n",
    "\n",
    "# Train and evaluate each classifier\n",
    "for clf_name, clf in classifiers.items():\n",
    "    clf.fit(X_train, y_train)\n",
    "    y_pred = clf.predict(X_test)\n",
    "    accuracy = accuracy_score(y_test, y_pred)\n",
    "    print(f\"{clf_name} Accuracy:\", accuracy)"
   ]
  },
  {
   "cell_type": "code",
   "execution_count": 35,
   "metadata": {},
   "outputs": [
    {
     "name": "stdout",
     "output_type": "stream",
     "text": [
      "AdaBoost Accuracy: 0.7256889591012814\n"
     ]
    }
   ],
   "source": [
    "# Initialize the classifiers\n",
    "classifiers = {\n",
    "    'AdaBoost': AdaBoostClassifier()\n",
    "}\n",
    "\n",
    "# Train and evaluate each classifier\n",
    "for clf_name, clf in classifiers.items():\n",
    "    clf.fit(X_train, y_train)\n",
    "    y_pred = clf.predict(X_test)\n",
    "    accuracy = accuracy_score(y_test, y_pred)\n",
    "    print(f\"{clf_name} Accuracy:\", accuracy)"
   ]
  },
  {
   "cell_type": "code",
   "execution_count": 36,
   "metadata": {},
   "outputs": [
    {
     "name": "stderr",
     "output_type": "stream",
     "text": [
      "c:\\Users\\Haresh\\anaconda3\\envs\\tf_gpu\\lib\\site-packages\\xgboost\\sklearn.py:1224: UserWarning: The use of label encoder in XGBClassifier is deprecated and will be removed in a future release. To remove this warning, do the following: 1) Pass option use_label_encoder=False when constructing XGBClassifier object; and 2) Encode your labels (y) as integers starting with 0, i.e. 0, 1, 2, ..., [num_class - 1].\n",
      "  warnings.warn(label_encoder_deprecation_msg, UserWarning)\n"
     ]
    },
    {
     "name": "stdout",
     "output_type": "stream",
     "text": [
      "[18:51:35] WARNING: D:\\bld\\xgboost-split_1637426510059\\work\\src\\learner.cc:1115: Starting in XGBoost 1.3.0, the default evaluation metric used with the objective 'multi:softprob' was changed from 'merror' to 'mlogloss'. Explicitly set eval_metric if you'd like to restore the old behavior.\n",
      "XGBoost Accuracy: 0.7879585746884326\n"
     ]
    }
   ],
   "source": [
    "from xgboost import XGBClassifier\n",
    "# Initialize the classifiers\n",
    "classifiers = {\n",
    "    'XGBoost': XGBClassifier(),\n",
    "}\n",
    "\n",
    "# Train and evaluate each classifier\n",
    "for clf_name, clf in classifiers.items():\n",
    "    clf.fit(X_train, y_train)\n",
    "    y_pred = clf.predict(X_test)\n",
    "    accuracy = accuracy_score(y_test, y_pred)\n",
    "    print(f\"{clf_name} Accuracy:\", accuracy)"
   ]
  },
  {
   "cell_type": "code",
   "execution_count": 38,
   "metadata": {},
   "outputs": [
    {
     "name": "stdout",
     "output_type": "stream",
     "text": [
      "Extra Trees Accuracy: 0.910830261541162\n"
     ]
    }
   ],
   "source": [
    "from sklearn.tree import ExtraTreeClassifier\n",
    "# Initialize the classifiers\n",
    "classifiers = {\n",
    "    'Extra Trees': ExtraTreesClassifier()\n",
    "}\n",
    "\n",
    "# Train and evaluate each classifier\n",
    "for clf_name, clf in classifiers.items():\n",
    "    clf.fit(X_train, y_train)\n",
    "    y_pred = clf.predict(X_test)\n",
    "    accuracy = accuracy_score(y_test, y_pred)\n",
    "    print(f\"{clf_name} Accuracy:\", accuracy)"
   ]
  },
  {
   "cell_type": "code",
   "execution_count": 39,
   "metadata": {},
   "outputs": [],
   "source": [
    "from sklearn.ensemble import RandomForestClassifier, AdaBoostClassifier, ExtraTreesClassifier, GradientBoostingClassifier, BaggingClassifier\n",
    "from sklearn.svm import SVC\n",
    "from sklearn.naive_bayes import GaussianNB\n",
    "from sklearn.tree import ExtraTreeClassifier\n",
    "from xgboost import XGBClassifier\n",
    "from sklearn.neural_network import MLPClassifier\n",
    "\n",
    "model_store = {\n",
    "    'Random Forest': RandomForestClassifier(),\n",
    "    'AdaBoost': AdaBoostClassifier(),\n",
    "    'Extra Trees': ExtraTreesClassifier(),\n",
    "    'Gradient Boosting': GradientBoostingClassifier(),\n",
    "    'Bagging Decision Tree': BaggingClassifier(),\n",
    "    'XGBoost': XGBClassifier(),\n",
    "    'SVM': SVC(),\n",
    "    'Naive Bayes': GaussianNB(),\n",
    "    'Extra Tree': ExtraTreeClassifier(),\n",
    "    'Artificial Neural Network': MLPClassifier()\n",
    "}"
   ]
  },
  {
   "cell_type": "code",
   "execution_count": 41,
   "metadata": {},
   "outputs": [
    {
     "name": "stdout",
     "output_type": "stream",
     "text": [
      "Artificial Neural Network Accuracy: 0.4684921888713358\n"
     ]
    }
   ],
   "source": [
    "\n",
    "# Initialize the classifiers\n",
    "classifiers = {\n",
    "    'Artificial Neural Network': MLPClassifier()\n",
    "}\n",
    "\n",
    "# Train and evaluate each classifier\n",
    "for clf_name, clf in classifiers.items():\n",
    "    clf.fit(X_train, y_train)\n",
    "    y_pred = clf.predict(X_test)\n",
    "    accuracy = accuracy_score(y_test, y_pred)\n",
    "    print(f\"{clf_name} Accuracy:\", accuracy)"
   ]
  },
  {
   "cell_type": "code",
   "execution_count": 42,
   "metadata": {},
   "outputs": [
    {
     "name": "stdout",
     "output_type": "stream",
     "text": [
      "Bagging Decision Tree Accuracy: 0.9034579603299983\n"
     ]
    }
   ],
   "source": [
    "\n",
    "# Initialize the classifiers\n",
    "classifiers = {\n",
    "    'Bagging Decision Tree': BaggingClassifier()\n",
    "}\n",
    "\n",
    "# Train and evaluate each classifier\n",
    "for clf_name, clf in classifiers.items():\n",
    "    clf.fit(X_train, y_train)\n",
    "    y_pred = clf.predict(X_test)\n",
    "    accuracy = accuracy_score(y_test, y_pred)\n",
    "    print(f\"{clf_name} Accuracy:\", accuracy)"
   ]
  },
  {
   "cell_type": "code",
   "execution_count": 45,
   "metadata": {},
   "outputs": [],
   "source": [
    "from interpret import glassbox\n",
    "# Initialize the classifiers\n",
    "classifiers = {\n",
    "    'Gradient Boosting': glassbox.ExplainableBoostingClassifier()\n",
    "}\n",
    "\n",
    "# Train and evaluate each classifier\n",
    "for clf_name, clf in classifiers.items():\n",
    "    clf.fit(X_train, y_train)\n",
    "    y_pred = clf.predict(X_test)\n",
    "    accuracy = accuracy_score(y_test, y_pred)\n",
    "    print(f\"{clf_name} Accuracy:\", accuracy)"
   ]
  },
  {
   "cell_type": "code",
   "execution_count": 44,
   "metadata": {},
   "outputs": [
    {
     "name": "stdout",
     "output_type": "stream",
     "text": [
      "Naive Bayes Accuracy: 0.6431016324381253\n"
     ]
    }
   ],
   "source": [
    "\n",
    "# Initialize the classifiers\n",
    "classifiers = {\n",
    "    'Naive Bayes': GaussianNB()\n",
    "}\n",
    "\n",
    "# Train and evaluate each classifier\n",
    "for clf_name, clf in classifiers.items():\n",
    "    clf.fit(X_train, y_train)\n",
    "    y_pred = clf.predict(X_test)\n",
    "    accuracy = accuracy_score(y_test, y_pred)\n",
    "    print(f\"{clf_name} Accuracy:\", accuracy)"
   ]
  },
  {
   "cell_type": "code",
   "execution_count": 4,
   "metadata": {},
   "outputs": [],
   "source": [
    "# Load the test dataset from CSV\n",
    "test_data = pd.read_csv('Doceree_Complete_DataSet\\Doceree-HCP_Test.csv',encoding='latin1')"
   ]
  },
  {
   "cell_type": "code",
   "execution_count": null,
   "metadata": {},
   "outputs": [],
   "source": [
    "# Perform label encoding for categorical columns in X\n",
    "categorical_cols = X.select_dtypes(include=['object']).columns\n",
    "label_encoder = LabelEncoder()\n",
    "for col in categorical_cols:\n",
    "    X[col] = label_encoder.fit_transform(X[col].astype(str))"
   ]
  },
  {
   "cell_type": "code",
   "execution_count": null,
   "metadata": {},
   "outputs": [],
   "source": [
    "test_data = pd.DataFrame(imputer.transform(test_data), columns=test_data.columns)\n",
    "test_data_selected = feature_selector.transform(test_data)"
   ]
  },
  {
   "cell_type": "code",
   "execution_count": null,
   "metadata": {},
   "outputs": [],
   "source": [
    "# Make predictions on the test dataset using the trained model\n",
    "predictions = clf.predict(test_data_selected)"
   ]
  },
  {
   "cell_type": "code",
   "execution_count": null,
   "metadata": {},
   "outputs": [],
   "source": [
    "# Save the predicted target variable 'Taxonomy' to a CSV file\n",
    "test_data['TAXONOMY'] = predictions\n",
    "test_data.to_csv('predicted_TAXONOMY.csv', index=False)"
   ]
  },
  {
   "cell_type": "code",
   "execution_count": null,
   "metadata": {},
   "outputs": [],
   "source": [
    "# Initialize the classifiers\n",
    "classifiers = {\n",
    "    'Random Forest': RandomForestClassifier(),\n",
    "}\n",
    "\n",
    "# Train and evaluate each classifier\n",
    "for clf_name, clf in classifiers.items():\n",
    "    clf.fit(X_train, y_train)\n",
    "    y_pred = clf.predict(X_test)\n",
    "    accuracy = accuracy_score(y_test, y_pred)\n",
    "    print(f\"{clf_name} Accuracy:\", accuracy)"
   ]
  },
  {
   "cell_type": "code",
   "execution_count": null,
   "metadata": {},
   "outputs": [],
   "source": []
  }
 ],
 "metadata": {
  "kernelspec": {
   "display_name": "techgig",
   "language": "python",
   "name": "python3"
  },
  "language_info": {
   "codemirror_mode": {
    "name": "ipython",
    "version": 3
   },
   "file_extension": ".py",
   "mimetype": "text/x-python",
   "name": "python",
   "nbconvert_exporter": "python",
   "pygments_lexer": "ipython3",
   "version": "3.8.16"
  },
  "orig_nbformat": 4
 },
 "nbformat": 4,
 "nbformat_minor": 2
}
