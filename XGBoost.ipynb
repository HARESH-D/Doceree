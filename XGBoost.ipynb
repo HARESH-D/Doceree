{
 "cells": [
  {
   "cell_type": "code",
   "execution_count": 53,
   "id": "d33a9c2e",
   "metadata": {},
   "outputs": [],
   "source": [
    "import pandas as pd\n",
    "import numpy as np\n",
    "import tensorflow as tf\n",
    "from sklearn.model_selection import train_test_split\n",
    "from sklearn.preprocessing import LabelEncoder\n",
    "from sklearn.preprocessing import OneHotEncoder\n",
    "from sklearn.linear_model import LogisticRegression\n",
    "from sklearn.metrics import accuracy_score\n",
    "from sklearn.ensemble import RandomForestClassifier\n",
    "from sklearn.decomposition import PCA\n",
    "from sklearn.feature_selection import SelectFromModel\n",
    "from sklearn.feature_selection import SelectKBest, f_classif\n",
    "from interpret import glassbox\n",
    "import joblib"
   ]
  },
  {
   "cell_type": "code",
   "execution_count": 54,
   "id": "489faee3",
   "metadata": {},
   "outputs": [],
   "source": [
    "df = pd.read_csv('Doceree-HCP_Train.csv', encoding='latin1')"
   ]
  },
  {
   "cell_type": "code",
   "execution_count": 55,
   "id": "ed37840d",
   "metadata": {},
   "outputs": [
    {
     "data": {
      "text/html": [
       "<div>\n",
       "<style scoped>\n",
       "    .dataframe tbody tr th:only-of-type {\n",
       "        vertical-align: middle;\n",
       "    }\n",
       "\n",
       "    .dataframe tbody tr th {\n",
       "        vertical-align: top;\n",
       "    }\n",
       "\n",
       "    .dataframe thead th {\n",
       "        text-align: right;\n",
       "    }\n",
       "</style>\n",
       "<table border=\"1\" class=\"dataframe\">\n",
       "  <thead>\n",
       "    <tr style=\"text-align: right;\">\n",
       "      <th></th>\n",
       "      <th>ID</th>\n",
       "      <th>DEVICETYPE</th>\n",
       "      <th>PLATFORM_ID</th>\n",
       "      <th>BIDREQUESTIP</th>\n",
       "      <th>USERPLATFORMUID</th>\n",
       "      <th>USERCITY</th>\n",
       "      <th>USERZIPCODE</th>\n",
       "      <th>USERAGENT</th>\n",
       "      <th>PLATFORMTYPE</th>\n",
       "      <th>CHANNELTYPE</th>\n",
       "      <th>URL</th>\n",
       "      <th>KEYWORDS</th>\n",
       "      <th>TAXONOMY</th>\n",
       "      <th>IS_HCP</th>\n",
       "    </tr>\n",
       "  </thead>\n",
       "  <tbody>\n",
       "    <tr>\n",
       "      <th>0</th>\n",
       "      <td>1001</td>\n",
       "      <td>Desktop</td>\n",
       "      <td>2</td>\n",
       "      <td>170.173.0.22</td>\n",
       "      <td>6974dcaa-f932-480e-9fb5-c52e20e1393a</td>\n",
       "      <td>Portland</td>\n",
       "      <td>97206.0</td>\n",
       "      <td>Mozilla/5.0 (Windows NT 10.0; Win64; x64) Appl...</td>\n",
       "      <td>Online Medical Journal</td>\n",
       "      <td>Website</td>\n",
       "      <td>https://www.cancertherapyadvisor.com/home/canc...</td>\n",
       "      <td>General|Endocrine|False|Medicine|Surgery|Urolo...</td>\n",
       "      <td>NaN</td>\n",
       "      <td>0.0</td>\n",
       "    </tr>\n",
       "    <tr>\n",
       "      <th>1</th>\n",
       "      <td>1002</td>\n",
       "      <td>Desktop</td>\n",
       "      <td>2</td>\n",
       "      <td>65.216.253.25</td>\n",
       "      <td>c12f3f8f-8fcf-484a-90e1-1ac04db8cdcf</td>\n",
       "      <td>Arlington</td>\n",
       "      <td>22202.0</td>\n",
       "      <td>Mozilla/5.0 (Macintosh; Intel Mac OS X 10_15_7...</td>\n",
       "      <td>Online Medical Journal</td>\n",
       "      <td>Website</td>\n",
       "      <td>https://www.cancertherapyadvisor.com/home/deci...</td>\n",
       "      <td>Bone Marrow|Radiography|Chronic|Oncology|Psych...</td>\n",
       "      <td>NaN</td>\n",
       "      <td>0.0</td>\n",
       "    </tr>\n",
       "    <tr>\n",
       "      <th>2</th>\n",
       "      <td>1003</td>\n",
       "      <td>Desktop</td>\n",
       "      <td>2</td>\n",
       "      <td>66.232.79.22</td>\n",
       "      <td>a698de4b-e200-46dd-b5fb-40402175ae18</td>\n",
       "      <td>New Meadows</td>\n",
       "      <td>83654.0</td>\n",
       "      <td>Mozilla/5.0 (Macintosh; Intel Mac OS X 10_15_7...</td>\n",
       "      <td>Online Medical Journal</td>\n",
       "      <td>Website</td>\n",
       "      <td>https://www.cancertherapyadvisor.com/home/canc...</td>\n",
       "      <td>General|Endocrine|False|Medicine|Surgery|Urolo...</td>\n",
       "      <td>NaN</td>\n",
       "      <td>0.0</td>\n",
       "    </tr>\n",
       "    <tr>\n",
       "      <th>3</th>\n",
       "      <td>1004</td>\n",
       "      <td>Desktop</td>\n",
       "      <td>3</td>\n",
       "      <td>137.54.125.246</td>\n",
       "      <td>45967533-75c8-4fbd-a00c-e6ff20447aaa</td>\n",
       "      <td>NaN</td>\n",
       "      <td>229114624.0</td>\n",
       "      <td>Mozilla/5.0 (Windows NT 10.0; Win64; x64) Appl...</td>\n",
       "      <td>Online Medical Journal</td>\n",
       "      <td>Website</td>\n",
       "      <td>https://globalrph.com/medcalcs/warfarin-mainte...</td>\n",
       "      <td>Dental|Total|Clinical|Pharmacology|Physicians|...</td>\n",
       "      <td>2084P0800X</td>\n",
       "      <td>1.0</td>\n",
       "    </tr>\n",
       "    <tr>\n",
       "      <th>4</th>\n",
       "      <td>1005</td>\n",
       "      <td>Mobile</td>\n",
       "      <td>7</td>\n",
       "      <td>174.202.231.99</td>\n",
       "      <td>a17e25be-532d-4cf5-b916-9308c8c3961f</td>\n",
       "      <td>Houston</td>\n",
       "      <td>77008.0</td>\n",
       "      <td>Mozilla/5.0 (iPhone; CPU iPhone OS 16_1_1 like...</td>\n",
       "      <td>Online Medical Journal</td>\n",
       "      <td>Website</td>\n",
       "      <td>https://www.cureus.com/articles/58184-a-review...</td>\n",
       "      <td>Critical Care|Emergency Medicine|General Pract...</td>\n",
       "      <td>NaN</td>\n",
       "      <td>0.0</td>\n",
       "    </tr>\n",
       "  </tbody>\n",
       "</table>\n",
       "</div>"
      ],
      "text/plain": [
       "     ID DEVICETYPE  PLATFORM_ID    BIDREQUESTIP   \n",
       "0  1001    Desktop            2    170.173.0.22  \\\n",
       "1  1002    Desktop            2   65.216.253.25   \n",
       "2  1003    Desktop            2    66.232.79.22   \n",
       "3  1004    Desktop            3  137.54.125.246   \n",
       "4  1005     Mobile            7  174.202.231.99   \n",
       "\n",
       "                        USERPLATFORMUID     USERCITY  USERZIPCODE   \n",
       "0  6974dcaa-f932-480e-9fb5-c52e20e1393a     Portland      97206.0  \\\n",
       "1  c12f3f8f-8fcf-484a-90e1-1ac04db8cdcf    Arlington      22202.0   \n",
       "2  a698de4b-e200-46dd-b5fb-40402175ae18  New Meadows      83654.0   \n",
       "3  45967533-75c8-4fbd-a00c-e6ff20447aaa          NaN  229114624.0   \n",
       "4  a17e25be-532d-4cf5-b916-9308c8c3961f      Houston      77008.0   \n",
       "\n",
       "                                           USERAGENT            PLATFORMTYPE   \n",
       "0  Mozilla/5.0 (Windows NT 10.0; Win64; x64) Appl...  Online Medical Journal  \\\n",
       "1  Mozilla/5.0 (Macintosh; Intel Mac OS X 10_15_7...  Online Medical Journal   \n",
       "2  Mozilla/5.0 (Macintosh; Intel Mac OS X 10_15_7...  Online Medical Journal   \n",
       "3  Mozilla/5.0 (Windows NT 10.0; Win64; x64) Appl...  Online Medical Journal   \n",
       "4  Mozilla/5.0 (iPhone; CPU iPhone OS 16_1_1 like...  Online Medical Journal   \n",
       "\n",
       "  CHANNELTYPE                                                URL   \n",
       "0     Website  https://www.cancertherapyadvisor.com/home/canc...  \\\n",
       "1     Website  https://www.cancertherapyadvisor.com/home/deci...   \n",
       "2     Website  https://www.cancertherapyadvisor.com/home/canc...   \n",
       "3     Website  https://globalrph.com/medcalcs/warfarin-mainte...   \n",
       "4     Website  https://www.cureus.com/articles/58184-a-review...   \n",
       "\n",
       "                                            KEYWORDS    TAXONOMY  IS_HCP  \n",
       "0  General|Endocrine|False|Medicine|Surgery|Urolo...         NaN     0.0  \n",
       "1  Bone Marrow|Radiography|Chronic|Oncology|Psych...         NaN     0.0  \n",
       "2  General|Endocrine|False|Medicine|Surgery|Urolo...         NaN     0.0  \n",
       "3  Dental|Total|Clinical|Pharmacology|Physicians|...  2084P0800X     1.0  \n",
       "4  Critical Care|Emergency Medicine|General Pract...         NaN     0.0  "
      ]
     },
     "execution_count": 55,
     "metadata": {},
     "output_type": "execute_result"
    }
   ],
   "source": [
    "df.head()"
   ]
  },
  {
   "cell_type": "code",
   "execution_count": 56,
   "id": "716ec6f0",
   "metadata": {},
   "outputs": [
    {
     "name": "stdout",
     "output_type": "stream",
     "text": [
      "<class 'pandas.core.frame.DataFrame'>\n",
      "RangeIndex: 113937 entries, 0 to 113936\n",
      "Data columns (total 14 columns):\n",
      " #   Column           Non-Null Count   Dtype  \n",
      "---  ------           --------------   -----  \n",
      " 0   ID               113937 non-null  int64  \n",
      " 1   DEVICETYPE       113937 non-null  object \n",
      " 2   PLATFORM_ID      113937 non-null  int64  \n",
      " 3   BIDREQUESTIP     113937 non-null  object \n",
      " 4   USERPLATFORMUID  113933 non-null  object \n",
      " 5   USERCITY         107578 non-null  object \n",
      " 6   USERZIPCODE      109345 non-null  float64\n",
      " 7   USERAGENT        113935 non-null  object \n",
      " 8   PLATFORMTYPE     113937 non-null  object \n",
      " 9   CHANNELTYPE      113937 non-null  object \n",
      " 10  URL              113937 non-null  object \n",
      " 11  KEYWORDS         113937 non-null  object \n",
      " 12  TAXONOMY         32313 non-null   object \n",
      " 13  IS_HCP           113936 non-null  float64\n",
      "dtypes: float64(2), int64(2), object(10)\n",
      "memory usage: 12.2+ MB\n"
     ]
    }
   ],
   "source": [
    "df.info()"
   ]
  },
  {
   "cell_type": "code",
   "execution_count": 57,
   "id": "d3167847",
   "metadata": {},
   "outputs": [
    {
     "name": "stdout",
     "output_type": "stream",
     "text": [
      "DEVICETYPE  {'Tablet', 'Desktop', 'Unknown', 'Mobile'}\n",
      "PLATFORM_ID  {1, 2, 3, 4, 5, 6, 7, 8, 9, 10, 12, 13, 14, 15, 16}\n",
      "PLATFORMTYPE  {'Electronic Health Record', 'Medical News Platform', 'Tele-medicine Platform', 'Online Learning Portal', 'Online Medical Journal'}\n",
      "CHANNELTYPE  {'Website'}\n",
      "IS_HCP  {0.0, 1.0, nan}\n"
     ]
    }
   ],
   "source": [
    "for i in df.columns:\n",
    "    if len(set(df[i]))<=60:\n",
    "        print(f\"{i}  {set(df[i])}\")"
   ]
  },
  {
   "cell_type": "code",
   "execution_count": 58,
   "id": "418dff9a",
   "metadata": {},
   "outputs": [],
   "source": [
    "le_devicetype=LabelEncoder()\n",
    "le_devicetype.fit(df['DEVICETYPE'])\n",
    "df['DEVICETYPE']=le_devicetype.transform(df['DEVICETYPE'])\n",
    "\n",
    "le_platformtype=LabelEncoder()\n",
    "le_platformtype.fit(df['PLATFORMTYPE'])\n",
    "df['PLATFORMTYPE']=le_platformtype.transform(df['PLATFORMTYPE'])\n",
    "\n",
    "le_channeltype=LabelEncoder()\n",
    "le_channeltype.fit(df['CHANNELTYPE'])\n",
    "df['CHANNELTYPE']=le_channeltype.transform(df['CHANNELTYPE'])\n"
   ]
  },
  {
   "cell_type": "code",
   "execution_count": 59,
   "id": "a8add8c0",
   "metadata": {},
   "outputs": [
    {
     "name": "stdout",
     "output_type": "stream",
     "text": [
      "<class 'pandas.core.frame.DataFrame'>\n",
      "RangeIndex: 113937 entries, 0 to 113936\n",
      "Data columns (total 14 columns):\n",
      " #   Column           Non-Null Count   Dtype  \n",
      "---  ------           --------------   -----  \n",
      " 0   ID               113937 non-null  int64  \n",
      " 1   DEVICETYPE       113937 non-null  int32  \n",
      " 2   PLATFORM_ID      113937 non-null  int64  \n",
      " 3   BIDREQUESTIP     113937 non-null  object \n",
      " 4   USERPLATFORMUID  113933 non-null  object \n",
      " 5   USERCITY         107578 non-null  object \n",
      " 6   USERZIPCODE      109345 non-null  float64\n",
      " 7   USERAGENT        113935 non-null  object \n",
      " 8   PLATFORMTYPE     113937 non-null  int32  \n",
      " 9   CHANNELTYPE      113937 non-null  int32  \n",
      " 10  URL              113937 non-null  object \n",
      " 11  KEYWORDS         113937 non-null  object \n",
      " 12  TAXONOMY         32313 non-null   object \n",
      " 13  IS_HCP           113936 non-null  float64\n",
      "dtypes: float64(2), int32(3), int64(2), object(7)\n",
      "memory usage: 10.9+ MB\n"
     ]
    }
   ],
   "source": [
    "df.info()"
   ]
  },
  {
   "cell_type": "code",
   "execution_count": 60,
   "id": "b8cbc94c",
   "metadata": {},
   "outputs": [
    {
     "data": {
      "text/plain": [
       "ID                     0\n",
       "DEVICETYPE             0\n",
       "PLATFORM_ID            0\n",
       "BIDREQUESTIP           0\n",
       "USERPLATFORMUID        4\n",
       "USERCITY            6359\n",
       "USERZIPCODE         4592\n",
       "USERAGENT              2\n",
       "PLATFORMTYPE           0\n",
       "CHANNELTYPE            0\n",
       "URL                    0\n",
       "KEYWORDS               0\n",
       "TAXONOMY           81624\n",
       "IS_HCP                 1\n",
       "dtype: int64"
      ]
     },
     "execution_count": 60,
     "metadata": {},
     "output_type": "execute_result"
    }
   ],
   "source": [
    "df.isnull().sum()"
   ]
  },
  {
   "cell_type": "code",
   "execution_count": 61,
   "id": "e9c511fd",
   "metadata": {},
   "outputs": [
    {
     "name": "stdout",
     "output_type": "stream",
     "text": [
      "DEVICETYPE\n",
      "0\n",
      "68.83014297374865 % \n",
      "========================\n",
      "PLATFORM_ID\n",
      "2\n",
      "69.46909256870025 % \n",
      "========================\n",
      "BIDREQUESTIP\n",
      "71.105.120.171\n",
      "1.5078508298445632 % \n",
      "========================\n",
      "USERPLATFORMUID\n",
      "3e2578c8-f794-41af-a38c-c5cfb3c0f014\n",
      "1.2700000877678015 % \n",
      "========================\n",
      "USERCITY\n",
      "New York\n",
      "4.338362428359533 % \n",
      "========================\n",
      "USERZIPCODE\n",
      "63169.0\n",
      "1.857166679831837 % \n",
      "========================\n",
      "USERAGENT\n",
      "Mozilla/5.0 (Windows NT 10.0; Win64; x64) AppleWebKit/537.36 (KHTML, like Gecko) Chrome/111.0.0.0 Safari/537.36\n",
      "7.354941766063702 % \n",
      "========================\n",
      "PLATFORMTYPE\n",
      "3\n",
      "96.64990301657934 % \n",
      "========================\n",
      "CHANNELTYPE\n",
      "0\n",
      "100.0 % \n",
      "========================\n",
      "URL\n",
      "https://www.clinicaladvisor.com/home/features/clinical-challenge/pain-tingling-and-limited-range-of-motion-after-a-cat-bite-to-the-finger/\n",
      "4.66047025988046 % \n",
      "========================\n",
      "KEYWORDS\n",
      "Family Practice|Drainage|Clinical|Dermatology|Ophthalmology|Medicine|Allergic|General|Diagnosis|Neurology|Hepatology|Health|Cardiovascular|Surgical|Psychiatry|Oral|Urology|Cardiology|Gastroenterology|Orthopedics|Erythema|Arthritis|Asthma|Cellulitis|Pediatrics|Surgery|False|Oncology|Rheumatology\n",
      "4.666614005985764 % \n",
      "========================\n",
      "TAXONOMY\n",
      "2084P0800X\n",
      "6.959986659294172 % \n",
      "========================\n",
      "IS_HCP\n",
      "0.0\n",
      "70.0000877678015 % \n",
      "========================\n"
     ]
    }
   ],
   "source": [
    "#Frequently occuring values in a dataset\n",
    "for i in df.columns:\n",
    "    if i!='ID':\n",
    "        print(i)\n",
    "        print(df[i].mode()[0])\n",
    "        print(f'{(df[i].value_counts()[df[i].mode()[0]]/len(df[i]))*100} % ')\n",
    "        print('========================')"
   ]
  },
  {
   "cell_type": "markdown",
   "id": "1766ee0f",
   "metadata": {},
   "source": [
    "## Inferences:\n",
    "\n",
    "- **CHANNELTYPE** - All data points are filled with 'Website'. Every user accesses through website channel. It is a redundant column\n",
    "- **PLATFORMTYPE** - 96% of users visit Online Medical Journals. \n",
    "- **IS_HCP** - 70 % of users are not HCP. Might lead to overfitting of the data due to imbalance of information\n",
    "- **DEVICETYPE** - 68% of users use desktop\n",
    "- **PLATFORMID** - 69 % of users used platform of ID=2\n"
   ]
  },
  {
   "cell_type": "markdown",
   "id": "1ebd41e3",
   "metadata": {},
   "source": [
    "## CORRELATION HEATMAP"
   ]
  },
  {
   "cell_type": "code",
   "execution_count": 62,
   "id": "9709e873",
   "metadata": {},
   "outputs": [],
   "source": [
    "from scipy.stats import spearmanr\n",
    "import seaborn as sns\n",
    "import matplotlib.pyplot as plt"
   ]
  },
  {
   "cell_type": "code",
   "execution_count": 63,
   "id": "65691d25",
   "metadata": {},
   "outputs": [
    {
     "name": "stdout",
     "output_type": "stream",
     "text": [
      "BIDREQUESTIP\n",
      "USERPLATFORMUID\n",
      "USERCITY\n",
      "USERAGENT\n",
      "URL\n",
      "KEYWORDS\n"
     ]
    }
   ],
   "source": [
    "data = df\n",
    "data.fillna(0,inplace=True)  # Replace NaN with 0\n",
    "for column in data.columns:\n",
    "    if type(data[column][0])==str:\n",
    "        print(column)\n",
    "        data[column] = data[column].astype(str)\n",
    "        data[column] = LabelEncoder().fit_transform(data[column])\n",
    "data['TAXONOMY']=LabelEncoder().fit_transform(data['TAXONOMY'].astype(str))\n",
    "data.drop(columns=['CHANNELTYPE'],inplace=True)\n",
    "corr_mat=[]\n",
    "for i in data.columns:\n",
    "    temp=[]\n",
    "    for j in data.columns:\n",
    "        temp.append(spearmanr(data[i],data[j]).correlation)\n",
    "    corr_mat.append(temp)\n"
   ]
  },
  {
   "cell_type": "code",
   "execution_count": 64,
   "id": "8e0f8cd2",
   "metadata": {},
   "outputs": [
    {
     "data": {
      "image/png": "[encoded data removed]",
      "text/plain": [
       "<Figure size 640x480 with 2 Axes>"
      ]
     },
     "metadata": {},
     "output_type": "display_data"
    }
   ],
   "source": [
    "sns.heatmap(data=corr_mat,xticklabels=data.columns,yticklabels=data.columns)\n",
    "plt.show()"
   ]
  },
  {
   "cell_type": "markdown",
   "id": "53fb5276",
   "metadata": {},
   "source": [
    "### Inferences:\n",
    "\n",
    "- High positive correlation between taxonomy and is_hcp "
   ]
  },
  {
   "cell_type": "code",
   "execution_count": 65,
   "id": "b2e0857f",
   "metadata": {},
   "outputs": [
    {
     "data": {
      "text/html": [
       "<div>\n",
       "<style scoped>\n",
       "    .dataframe tbody tr th:only-of-type {\n",
       "        vertical-align: middle;\n",
       "    }\n",
       "\n",
       "    .dataframe tbody tr th {\n",
       "        vertical-align: top;\n",
       "    }\n",
       "\n",
       "    .dataframe thead th {\n",
       "        text-align: right;\n",
       "    }\n",
       "</style>\n",
       "<table border=\"1\" class=\"dataframe\">\n",
       "  <thead>\n",
       "    <tr style=\"text-align: right;\">\n",
       "      <th></th>\n",
       "      <th>ID</th>\n",
       "      <th>DEVICETYPE</th>\n",
       "      <th>PLATFORM_ID</th>\n",
       "      <th>BIDREQUESTIP</th>\n",
       "      <th>USERPLATFORMUID</th>\n",
       "      <th>USERCITY</th>\n",
       "      <th>USERZIPCODE</th>\n",
       "      <th>USERAGENT</th>\n",
       "      <th>PLATFORMTYPE</th>\n",
       "      <th>URL</th>\n",
       "      <th>KEYWORDS</th>\n",
       "      <th>TAXONOMY</th>\n",
       "      <th>IS_HCP</th>\n",
       "    </tr>\n",
       "  </thead>\n",
       "  <tbody>\n",
       "    <tr>\n",
       "      <th>0</th>\n",
       "      <td>1001</td>\n",
       "      <td>0</td>\n",
       "      <td>2</td>\n",
       "      <td>6580</td>\n",
       "      <td>22184</td>\n",
       "      <td>3178</td>\n",
       "      <td>97206.0</td>\n",
       "      <td>2858</td>\n",
       "      <td>3</td>\n",
       "      <td>666</td>\n",
       "      <td>459</td>\n",
       "      <td>0</td>\n",
       "      <td>0.0</td>\n",
       "    </tr>\n",
       "    <tr>\n",
       "      <th>1</th>\n",
       "      <td>1002</td>\n",
       "      <td>0</td>\n",
       "      <td>2</td>\n",
       "      <td>19253</td>\n",
       "      <td>40577</td>\n",
       "      <td>131</td>\n",
       "      <td>22202.0</td>\n",
       "      <td>2673</td>\n",
       "      <td>3</td>\n",
       "      <td>708</td>\n",
       "      <td>109</td>\n",
       "      <td>0</td>\n",
       "      <td>0.0</td>\n",
       "    </tr>\n",
       "    <tr>\n",
       "      <th>2</th>\n",
       "      <td>1003</td>\n",
       "      <td>0</td>\n",
       "      <td>2</td>\n",
       "      <td>19704</td>\n",
       "      <td>34969</td>\n",
       "      <td>2702</td>\n",
       "      <td>83654.0</td>\n",
       "      <td>2673</td>\n",
       "      <td>3</td>\n",
       "      <td>666</td>\n",
       "      <td>459</td>\n",
       "      <td>0</td>\n",
       "      <td>0.0</td>\n",
       "    </tr>\n",
       "    <tr>\n",
       "      <th>3</th>\n",
       "      <td>1004</td>\n",
       "      <td>0</td>\n",
       "      <td>3</td>\n",
       "      <td>4193</td>\n",
       "      <td>14677</td>\n",
       "      <td>2</td>\n",
       "      <td>229114624.0</td>\n",
       "      <td>2946</td>\n",
       "      <td>3</td>\n",
       "      <td>327</td>\n",
       "      <td>274</td>\n",
       "      <td>150</td>\n",
       "      <td>1.0</td>\n",
       "    </tr>\n",
       "    <tr>\n",
       "      <th>4</th>\n",
       "      <td>1005</td>\n",
       "      <td>1</td>\n",
       "      <td>7</td>\n",
       "      <td>10056</td>\n",
       "      <td>33845</td>\n",
       "      <td>1768</td>\n",
       "      <td>77008.0</td>\n",
       "      <td>4050</td>\n",
       "      <td>3</td>\n",
       "      <td>1631</td>\n",
       "      <td>258</td>\n",
       "      <td>0</td>\n",
       "      <td>0.0</td>\n",
       "    </tr>\n",
       "    <tr>\n",
       "      <th>...</th>\n",
       "      <td>...</td>\n",
       "      <td>...</td>\n",
       "      <td>...</td>\n",
       "      <td>...</td>\n",
       "      <td>...</td>\n",
       "      <td>...</td>\n",
       "      <td>...</td>\n",
       "      <td>...</td>\n",
       "      <td>...</td>\n",
       "      <td>...</td>\n",
       "      <td>...</td>\n",
       "      <td>...</td>\n",
       "      <td>...</td>\n",
       "    </tr>\n",
       "    <tr>\n",
       "      <th>113932</th>\n",
       "      <td>114933</td>\n",
       "      <td>0</td>\n",
       "      <td>2</td>\n",
       "      <td>22037</td>\n",
       "      <td>1064</td>\n",
       "      <td>3068</td>\n",
       "      <td>19120.0</td>\n",
       "      <td>2589</td>\n",
       "      <td>3</td>\n",
       "      <td>819</td>\n",
       "      <td>149</td>\n",
       "      <td>70</td>\n",
       "      <td>1.0</td>\n",
       "    </tr>\n",
       "    <tr>\n",
       "      <th>113933</th>\n",
       "      <td>114934</td>\n",
       "      <td>0</td>\n",
       "      <td>2</td>\n",
       "      <td>435</td>\n",
       "      <td>10706</td>\n",
       "      <td>4044</td>\n",
       "      <td>914014213.0</td>\n",
       "      <td>3019</td>\n",
       "      <td>3</td>\n",
       "      <td>852</td>\n",
       "      <td>68</td>\n",
       "      <td>150</td>\n",
       "      <td>1.0</td>\n",
       "    </tr>\n",
       "    <tr>\n",
       "      <th>113934</th>\n",
       "      <td>114935</td>\n",
       "      <td>0</td>\n",
       "      <td>7</td>\n",
       "      <td>10581</td>\n",
       "      <td>32809</td>\n",
       "      <td>2</td>\n",
       "      <td>98105.0</td>\n",
       "      <td>2651</td>\n",
       "      <td>3</td>\n",
       "      <td>1576</td>\n",
       "      <td>922</td>\n",
       "      <td>113</td>\n",
       "      <td>1.0</td>\n",
       "    </tr>\n",
       "    <tr>\n",
       "      <th>113935</th>\n",
       "      <td>114936</td>\n",
       "      <td>1</td>\n",
       "      <td>2</td>\n",
       "      <td>22764</td>\n",
       "      <td>36869</td>\n",
       "      <td>4323</td>\n",
       "      <td>19808.0</td>\n",
       "      <td>3848</td>\n",
       "      <td>3</td>\n",
       "      <td>2387</td>\n",
       "      <td>1680</td>\n",
       "      <td>150</td>\n",
       "      <td>1.0</td>\n",
       "    </tr>\n",
       "    <tr>\n",
       "      <th>113936</th>\n",
       "      <td>114937</td>\n",
       "      <td>1</td>\n",
       "      <td>2</td>\n",
       "      <td>2831</td>\n",
       "      <td>44157</td>\n",
       "      <td>4280</td>\n",
       "      <td>10605.0</td>\n",
       "      <td>4034</td>\n",
       "      <td>3</td>\n",
       "      <td>3648</td>\n",
       "      <td>487</td>\n",
       "      <td>150</td>\n",
       "      <td>1.0</td>\n",
       "    </tr>\n",
       "  </tbody>\n",
       "</table>\n",
       "<p>113937 rows × 13 columns</p>\n",
       "</div>"
      ],
      "text/plain": [
       "            ID  DEVICETYPE  PLATFORM_ID  BIDREQUESTIP  USERPLATFORMUID   \n",
       "0         1001           0            2          6580            22184  \\\n",
       "1         1002           0            2         19253            40577   \n",
       "2         1003           0            2         19704            34969   \n",
       "3         1004           0            3          4193            14677   \n",
       "4         1005           1            7         10056            33845   \n",
       "...        ...         ...          ...           ...              ...   \n",
       "113932  114933           0            2         22037             1064   \n",
       "113933  114934           0            2           435            10706   \n",
       "113934  114935           0            7         10581            32809   \n",
       "113935  114936           1            2         22764            36869   \n",
       "113936  114937           1            2          2831            44157   \n",
       "\n",
       "        USERCITY  USERZIPCODE  USERAGENT  PLATFORMTYPE   URL  KEYWORDS   \n",
       "0           3178      97206.0       2858             3   666       459  \\\n",
       "1            131      22202.0       2673             3   708       109   \n",
       "2           2702      83654.0       2673             3   666       459   \n",
       "3              2  229114624.0       2946             3   327       274   \n",
       "4           1768      77008.0       4050             3  1631       258   \n",
       "...          ...          ...        ...           ...   ...       ...   \n",
       "113932      3068      19120.0       2589             3   819       149   \n",
       "113933      4044  914014213.0       3019             3   852        68   \n",
       "113934         2      98105.0       2651             3  1576       922   \n",
       "113935      4323      19808.0       3848             3  2387      1680   \n",
       "113936      4280      10605.0       4034             3  3648       487   \n",
       "\n",
       "        TAXONOMY  IS_HCP  \n",
       "0              0     0.0  \n",
       "1              0     0.0  \n",
       "2              0     0.0  \n",
       "3            150     1.0  \n",
       "4              0     0.0  \n",
       "...          ...     ...  \n",
       "113932        70     1.0  \n",
       "113933       150     1.0  \n",
       "113934       113     1.0  \n",
       "113935       150     1.0  \n",
       "113936       150     1.0  \n",
       "\n",
       "[113937 rows x 13 columns]"
      ]
     },
     "execution_count": 65,
     "metadata": {},
     "output_type": "execute_result"
    }
   ],
   "source": [
    "df"
   ]
  },
  {
   "cell_type": "code",
   "execution_count": 66,
   "id": "72694851",
   "metadata": {},
   "outputs": [
    {
     "name": "stdout",
     "output_type": "stream",
     "text": [
      "<class 'pandas.core.frame.DataFrame'>\n",
      "RangeIndex: 113937 entries, 0 to 113936\n",
      "Data columns (total 13 columns):\n",
      " #   Column           Non-Null Count   Dtype  \n",
      "---  ------           --------------   -----  \n",
      " 0   ID               113937 non-null  int64  \n",
      " 1   DEVICETYPE       113937 non-null  int32  \n",
      " 2   PLATFORM_ID      113937 non-null  int64  \n",
      " 3   BIDREQUESTIP     113937 non-null  int32  \n",
      " 4   USERPLATFORMUID  113937 non-null  int32  \n",
      " 5   USERCITY         113937 non-null  int32  \n",
      " 6   USERZIPCODE      113937 non-null  float64\n",
      " 7   USERAGENT        113937 non-null  int32  \n",
      " 8   PLATFORMTYPE     113937 non-null  int32  \n",
      " 9   URL              113937 non-null  int32  \n",
      " 10  KEYWORDS         113937 non-null  int32  \n",
      " 11  TAXONOMY         113937 non-null  int32  \n",
      " 12  IS_HCP           113937 non-null  float64\n",
      "dtypes: float64(2), int32(9), int64(2)\n",
      "memory usage: 7.4 MB\n",
      "None\n"
     ]
    }
   ],
   "source": [
    "print(df.info())\n",
    "X=df.drop(columns=['IS_HCP','TAXONOMY'],inplace=False)\n",
    "y=df['IS_HCP']"
   ]
  },
  {
   "cell_type": "code",
   "execution_count": 67,
   "id": "8b955ac0",
   "metadata": {},
   "outputs": [],
   "source": [
    "X_train, X_test, y_train, y_test = train_test_split(X, y, test_size=0.2, random_state=42)"
   ]
  },
  {
   "cell_type": "code",
   "execution_count": 68,
   "id": "510b53e8",
   "metadata": {},
   "outputs": [
    {
     "name": "stdout",
     "output_type": "stream",
     "text": [
      "0.9910918027031771\n"
     ]
    }
   ],
   "source": [
    "from xgboost import XGBClassifier\n",
    "\n",
    "model1 = XGBClassifier()\n",
    "model1.fit(X_train, y_train)\n",
    "\n",
    "y_pred = model1.predict(X_test)\n",
    "\n",
    "print(accuracy_score(y_test, y_pred))\n"
   ]
  },
  {
   "cell_type": "code",
   "execution_count": 69,
   "id": "8e256ffe",
   "metadata": {},
   "outputs": [
    {
     "name": "stdout",
     "output_type": "stream",
     "text": [
      "0.9871423556257679\n"
     ]
    }
   ],
   "source": [
    "from sklearn.ensemble import ExtraTreesClassifier\n",
    "\n",
    "model = ExtraTreesClassifier()\n",
    "model.fit(X_train, y_train)\n",
    "\n",
    "y_pred = model.predict(X_test)\n",
    "\n",
    "print(accuracy_score(y_test, y_pred))\n"
   ]
  },
  {
   "cell_type": "code",
   "execution_count": 70,
   "id": "06eac237",
   "metadata": {},
   "outputs": [
    {
     "name": "stdout",
     "output_type": "stream",
     "text": [
      "0.9910479199578726\n"
     ]
    }
   ],
   "source": [
    "from sklearn.ensemble import RandomForestClassifier\n",
    "\n",
    "model = RandomForestClassifier()\n",
    "model.fit(X_train, y_train)\n",
    "\n",
    "y_pred = model.predict(X_test)\n",
    "\n",
    "print(accuracy_score(y_test, y_pred))"
   ]
  },
  {
   "cell_type": "code",
   "execution_count": 71,
   "id": "fd1a66c0",
   "metadata": {},
   "outputs": [
    {
     "name": "stdout",
     "output_type": "stream",
     "text": [
      "0.39011760575741616\n"
     ]
    }
   ],
   "source": [
    "from sklearn.neural_network import MLPClassifier\n",
    "\n",
    "model = MLPClassifier()\n",
    "model.fit(X_train, y_train)\n",
    "\n",
    "y_pred = model.predict(X_test)\n",
    "\n",
    "print(accuracy_score(y_test, y_pred))"
   ]
  },
  {
   "cell_type": "code",
   "execution_count": 72,
   "id": "873ea9ad",
   "metadata": {},
   "outputs": [
    {
     "name": "stdout",
     "output_type": "stream",
     "text": [
      "0.9889854309285588\n"
     ]
    }
   ],
   "source": [
    "from sklearn.ensemble import BaggingClassifier\n",
    "\n",
    "model = BaggingClassifier()\n",
    "model.fit(X_train, y_train)\n",
    "\n",
    "y_pred = model.predict(X_test)\n",
    "\n",
    "print(accuracy_score(y_test, y_pred))"
   ]
  },
  {
   "cell_type": "code",
   "execution_count": 73,
   "id": "004f5e73",
   "metadata": {},
   "outputs": [
    {
     "name": "stdout",
     "output_type": "stream",
     "text": [
      "0.8781814990345796\n"
     ]
    }
   ],
   "source": [
    "from sklearn.ensemble import AdaBoostClassifier\n",
    "\n",
    "model = AdaBoostClassifier()\n",
    "model.fit(X_train, y_train)\n",
    "\n",
    "y_pred = model.predict(X_test)\n",
    "\n",
    "print(accuracy_score(y_test, y_pred))"
   ]
  },
  {
   "cell_type": "code",
   "execution_count": 74,
   "id": "7df076a3",
   "metadata": {},
   "outputs": [
    {
     "name": "stdout",
     "output_type": "stream",
     "text": [
      "0.9229857819905213\n"
     ]
    }
   ],
   "source": [
    "from sklearn.ensemble import GradientBoostingClassifier\n",
    "\n",
    "model = GradientBoostingClassifier()\n",
    "model.fit(X_train, y_train)\n",
    "\n",
    "y_pred = model.predict(X_test)\n",
    "\n",
    "print(accuracy_score(y_test, y_pred))"
   ]
  },
  {
   "cell_type": "code",
   "execution_count": 75,
   "id": "373ecb72",
   "metadata": {},
   "outputs": [
    {
     "name": "stdout",
     "output_type": "stream",
     "text": [
      "0.7388537826926452\n"
     ]
    }
   ],
   "source": [
    "from sklearn.naive_bayes import GaussianNB\n",
    "\n",
    "model = GaussianNB()\n",
    "model.fit(X_train, y_train)\n",
    "\n",
    "y_pred = model.predict(X_test)\n",
    "\n",
    "print(accuracy_score(y_test, y_pred))"
   ]
  },
  {
   "cell_type": "code",
   "execution_count": 76,
   "id": "c477cd9e",
   "metadata": {},
   "outputs": [
    {
     "data": {
      "text/html": [
       "<style>#sk-container-id-3 {color: black;background-color: white;}#sk-container-id-3 pre{padding: 0;}#sk-container-id-3 div.sk-toggleable {background-color: white;}#sk-container-id-3 label.sk-toggleable__label {cursor: pointer;display: block;width: 100%;margin-bottom: 0;padding: 0.3em;box-sizing: border-box;text-align: center;}#sk-container-id-3 label.sk-toggleable__label-arrow:before {content: \"▸\";float: left;margin-right: 0.25em;color: #696969;}#sk-container-id-3 label.sk-toggleable__label-arrow:hover:before {color: black;}#sk-container-id-3 div.sk-estimator:hover label.sk-toggleable__label-arrow:before {color: black;}#sk-container-id-3 div.sk-toggleable__content {max-height: 0;max-width: 0;overflow: hidden;text-align: left;background-color: #f0f8ff;}#sk-container-id-3 div.sk-toggleable__content pre {margin: 0.2em;color: black;border-radius: 0.25em;background-color: #f0f8ff;}#sk-container-id-3 input.sk-toggleable__control:checked~div.sk-toggleable__content {max-height: 200px;max-width: 100%;overflow: auto;}#sk-container-id-3 input.sk-toggleable__control:checked~label.sk-toggleable__label-arrow:before {content: \"▾\";}#sk-container-id-3 div.sk-estimator input.sk-toggleable__control:checked~label.sk-toggleable__label {background-color: #d4ebff;}#sk-container-id-3 div.sk-label input.sk-toggleable__control:checked~label.sk-toggleable__label {background-color: #d4ebff;}#sk-container-id-3 input.sk-hidden--visually {border: 0;clip: rect(1px 1px 1px 1px);clip: rect(1px, 1px, 1px, 1px);height: 1px;margin: -1px;overflow: hidden;padding: 0;position: absolute;width: 1px;}#sk-container-id-3 div.sk-estimator {font-family: monospace;background-color: #f0f8ff;border: 1px dotted black;border-radius: 0.25em;box-sizing: border-box;margin-bottom: 0.5em;}#sk-container-id-3 div.sk-estimator:hover {background-color: #d4ebff;}#sk-container-id-3 div.sk-parallel-item::after {content: \"\";width: 100%;border-bottom: 1px solid gray;flex-grow: 1;}#sk-container-id-3 div.sk-label:hover label.sk-toggleable__label {background-color: #d4ebff;}#sk-container-id-3 div.sk-serial::before {content: \"\";position: absolute;border-left: 1px solid gray;box-sizing: border-box;top: 0;bottom: 0;left: 50%;z-index: 0;}#sk-container-id-3 div.sk-serial {display: flex;flex-direction: column;align-items: center;background-color: white;padding-right: 0.2em;padding-left: 0.2em;position: relative;}#sk-container-id-3 div.sk-item {position: relative;z-index: 1;}#sk-container-id-3 div.sk-parallel {display: flex;align-items: stretch;justify-content: center;background-color: white;position: relative;}#sk-container-id-3 div.sk-item::before, #sk-container-id-3 div.sk-parallel-item::before {content: \"\";position: absolute;border-left: 1px solid gray;box-sizing: border-box;top: 0;bottom: 0;left: 50%;z-index: -1;}#sk-container-id-3 div.sk-parallel-item {display: flex;flex-direction: column;z-index: 1;position: relative;background-color: white;}#sk-container-id-3 div.sk-parallel-item:first-child::after {align-self: flex-end;width: 50%;}#sk-container-id-3 div.sk-parallel-item:last-child::after {align-self: flex-start;width: 50%;}#sk-container-id-3 div.sk-parallel-item:only-child::after {width: 0;}#sk-container-id-3 div.sk-dashed-wrapped {border: 1px dashed gray;margin: 0 0.4em 0.5em 0.4em;box-sizing: border-box;padding-bottom: 0.4em;background-color: white;}#sk-container-id-3 div.sk-label label {font-family: monospace;font-weight: bold;display: inline-block;line-height: 1.2em;}#sk-container-id-3 div.sk-label-container {text-align: center;}#sk-container-id-3 div.sk-container {/* jupyter's `normalize.less` sets `[hidden] { display: none; }` but bootstrap.min.css set `[hidden] { display: none !important; }` so we also need the `!important` here to be able to override the default hidden behavior on the sphinx rendered scikit-learn.org. See: https://github.com/scikit-learn/scikit-learn/issues/21755 */display: inline-block !important;position: relative;}#sk-container-id-3 div.sk-text-repr-fallback {display: none;}</style><div id=\"sk-container-id-3\" class=\"sk-top-container\"><div class=\"sk-text-repr-fallback\"><pre>ExplainableBoostingClassifier()</pre><b>In a Jupyter environment, please rerun this cell to show the HTML representation or trust the notebook. <br />On GitHub, the HTML representation is unable to render, please try loading this page with nbviewer.org.</b></div><div class=\"sk-container\" hidden><div class=\"sk-item\"><div class=\"sk-estimator sk-toggleable\"><input class=\"sk-toggleable__control sk-hidden--visually\" id=\"sk-estimator-id-3\" type=\"checkbox\" checked><label for=\"sk-estimator-id-3\" class=\"sk-toggleable__label sk-toggleable__label-arrow\">ExplainableBoostingClassifier</label><div class=\"sk-toggleable__content\"><pre>ExplainableBoostingClassifier()</pre></div></div></div></div></div>"
      ],
      "text/plain": [
       "ExplainableBoostingClassifier()"
      ]
     },
     "execution_count": 76,
     "metadata": {},
     "output_type": "execute_result"
    }
   ],
   "source": [
    "model=glassbox.ExplainableBoostingClassifier()\n",
    "model.fit(X_train,y_train)\n"
   ]
  },
  {
   "cell_type": "code",
   "execution_count": 77,
   "id": "42355efb",
   "metadata": {},
   "outputs": [],
   "source": [
    "y_pred=model.predict(X_test)"
   ]
  },
  {
   "cell_type": "code",
   "execution_count": 78,
   "id": "ec41793d",
   "metadata": {},
   "outputs": [
    {
     "name": "stdout",
     "output_type": "stream",
     "text": [
      "0.9724855186940495\n"
     ]
    }
   ],
   "source": [
    "print(accuracy_score(np.array(y_test.astype(str)),y_pred))"
   ]
  },
  {
   "cell_type": "code",
   "execution_count": 79,
   "id": "9408e07f",
   "metadata": {},
   "outputs": [
    {
     "data": {
      "text/plain": [
       "['XGBoost.h5']"
      ]
     },
     "execution_count": 79,
     "metadata": {},
     "output_type": "execute_result"
    }
   ],
   "source": [
    "# Fit the model to the training data\n",
    "model1.fit(X_train, y_train)\n",
    "\n",
    "# Save the model to an HDF5 file\n",
    "joblib.dump(model1, 'XGBoost.h5')"
   ]
  },
  {
   "cell_type": "code",
   "execution_count": 80,
   "id": "9b8f828c",
   "metadata": {},
   "outputs": [],
   "source": [
    "df = pd.read_csv('Doceree-HCP-Test.csv', encoding='latin1')\n"
   ]
  },
  {
   "cell_type": "code",
   "execution_count": 81,
   "id": "e59f2200",
   "metadata": {},
   "outputs": [
    {
     "data": {
      "text/plain": [
       "ID                                                            115501\n",
       "DEVICETYPE                                                   Desktop\n",
       "PLATFORM_ID                                                      2.0\n",
       "BIDREQUESTIP                                          75.189.231.103\n",
       "USERPLATFORMUID                 0d5041ff-f0b6-4d1a-9ad7-0a29f7d485b4\n",
       "USERCITY                                                Fayetteville\n",
       "USERZIPCODE                                                  28305.0\n",
       "USERAGENT          Mozilla/5.0 (Macintosh; Intel Mac OS X 10_11_6...\n",
       "PLATFORMTYPE                                  Online Medical Journal\n",
       "CHANNELTYPE                                                  Website\n",
       "URL                https://www.clinicaladvisor.com/home/features/...\n",
       "KEYWORDS           Family Practice|Drainage|Clinical|Dermatology|...\n",
       "Name: 0, dtype: object"
      ]
     },
     "execution_count": 81,
     "metadata": {},
     "output_type": "execute_result"
    }
   ],
   "source": [
    "df.iloc[0]"
   ]
  },
  {
   "cell_type": "code",
   "execution_count": 82,
   "id": "12af1d61",
   "metadata": {},
   "outputs": [],
   "source": [
    "le_devicetype=LabelEncoder()\n",
    "le_devicetype.fit(df['DEVICETYPE'])\n",
    "df['DEVICETYPE']=le_devicetype.transform(df['DEVICETYPE'])\n",
    "\n",
    "le_platformtype=LabelEncoder()\n",
    "le_platformtype.fit(df['PLATFORMTYPE'])\n",
    "df['PLATFORMTYPE']=le_platformtype.transform(df['PLATFORMTYPE'])\n",
    "\n",
    "le_channeltype=LabelEncoder()\n",
    "le_channeltype.fit(df['CHANNELTYPE'])\n",
    "df['CHANNELTYPE']=le_channeltype.transform(df['CHANNELTYPE'])\n"
   ]
  },
  {
   "cell_type": "code",
   "execution_count": 83,
   "id": "df16a6fa",
   "metadata": {},
   "outputs": [
    {
     "name": "stdout",
     "output_type": "stream",
     "text": [
      "ID\n",
      "BIDREQUESTIP\n",
      "USERPLATFORMUID\n",
      "USERCITY\n",
      "USERAGENT\n",
      "URL\n",
      "KEYWORDS\n"
     ]
    }
   ],
   "source": [
    "from scipy.stats import spearmanr\n",
    "\n",
    "data = df\n",
    "data.fillna(0,inplace=True)  # Replace NaN with 0\n",
    "for column in data.columns:\n",
    "    if type(data[column][0])==str:\n",
    "        print(column)\n",
    "        data[column] = data[column].astype(str)\n",
    "        data[column] = LabelEncoder().fit_transform(data[column])\n",
    "data.drop(columns=['CHANNELTYPE'],inplace=True)\n",
    "corr_mat=[]\n",
    "for i in data.columns:\n",
    "    temp=[]\n",
    "    for j in data.columns:\n",
    "        temp.append(spearmanr(data[i],data[j]).correlation)\n",
    "    corr_mat.append(temp)\n"
   ]
  },
  {
   "cell_type": "code",
   "execution_count": 84,
   "id": "4ff879a6",
   "metadata": {},
   "outputs": [
    {
     "data": {
      "text/html": [
       "<div>\n",
       "<style scoped>\n",
       "    .dataframe tbody tr th:only-of-type {\n",
       "        vertical-align: middle;\n",
       "    }\n",
       "\n",
       "    .dataframe tbody tr th {\n",
       "        vertical-align: top;\n",
       "    }\n",
       "\n",
       "    .dataframe thead th {\n",
       "        text-align: right;\n",
       "    }\n",
       "</style>\n",
       "<table border=\"1\" class=\"dataframe\">\n",
       "  <thead>\n",
       "    <tr style=\"text-align: right;\">\n",
       "      <th></th>\n",
       "      <th>ID</th>\n",
       "      <th>DEVICETYPE</th>\n",
       "      <th>PLATFORM_ID</th>\n",
       "      <th>BIDREQUESTIP</th>\n",
       "      <th>USERPLATFORMUID</th>\n",
       "      <th>USERCITY</th>\n",
       "      <th>USERZIPCODE</th>\n",
       "      <th>USERAGENT</th>\n",
       "      <th>PLATFORMTYPE</th>\n",
       "      <th>URL</th>\n",
       "      <th>KEYWORDS</th>\n",
       "    </tr>\n",
       "  </thead>\n",
       "  <tbody>\n",
       "    <tr>\n",
       "      <th>0</th>\n",
       "      <td>2</td>\n",
       "      <td>0</td>\n",
       "      <td>2.0</td>\n",
       "      <td>12372</td>\n",
       "      <td>936</td>\n",
       "      <td>859</td>\n",
       "      <td>28305.0</td>\n",
       "      <td>1231</td>\n",
       "      <td>3</td>\n",
       "      <td>546</td>\n",
       "      <td>327</td>\n",
       "    </tr>\n",
       "    <tr>\n",
       "      <th>1</th>\n",
       "      <td>3</td>\n",
       "      <td>1</td>\n",
       "      <td>2.0</td>\n",
       "      <td>6274</td>\n",
       "      <td>14095</td>\n",
       "      <td>561</td>\n",
       "      <td>16316.0</td>\n",
       "      <td>2120</td>\n",
       "      <td>3</td>\n",
       "      <td>2280</td>\n",
       "      <td>355</td>\n",
       "    </tr>\n",
       "    <tr>\n",
       "      <th>2</th>\n",
       "      <td>4</td>\n",
       "      <td>0</td>\n",
       "      <td>2.0</td>\n",
       "      <td>2997</td>\n",
       "      <td>4195</td>\n",
       "      <td>594</td>\n",
       "      <td>91724.0</td>\n",
       "      <td>1329</td>\n",
       "      <td>3</td>\n",
       "      <td>2306</td>\n",
       "      <td>1</td>\n",
       "    </tr>\n",
       "    <tr>\n",
       "      <th>3</th>\n",
       "      <td>5</td>\n",
       "      <td>0</td>\n",
       "      <td>7.0</td>\n",
       "      <td>10012</td>\n",
       "      <td>4309</td>\n",
       "      <td>325</td>\n",
       "      <td>11226.0</td>\n",
       "      <td>1357</td>\n",
       "      <td>3</td>\n",
       "      <td>794</td>\n",
       "      <td>413</td>\n",
       "    </tr>\n",
       "    <tr>\n",
       "      <th>4</th>\n",
       "      <td>6</td>\n",
       "      <td>0</td>\n",
       "      <td>2.0</td>\n",
       "      <td>11873</td>\n",
       "      <td>16653</td>\n",
       "      <td>1611</td>\n",
       "      <td>30062.0</td>\n",
       "      <td>1444</td>\n",
       "      <td>3</td>\n",
       "      <td>2508</td>\n",
       "      <td>879</td>\n",
       "    </tr>\n",
       "    <tr>\n",
       "      <th>...</th>\n",
       "      <td>...</td>\n",
       "      <td>...</td>\n",
       "      <td>...</td>\n",
       "      <td>...</td>\n",
       "      <td>...</td>\n",
       "      <td>...</td>\n",
       "      <td>...</td>\n",
       "      <td>...</td>\n",
       "      <td>...</td>\n",
       "      <td>...</td>\n",
       "      <td>...</td>\n",
       "    </tr>\n",
       "    <tr>\n",
       "      <th>28575</th>\n",
       "      <td>28527</td>\n",
       "      <td>0</td>\n",
       "      <td>2.0</td>\n",
       "      <td>9598</td>\n",
       "      <td>8457</td>\n",
       "      <td>325</td>\n",
       "      <td>11215.0</td>\n",
       "      <td>1395</td>\n",
       "      <td>3</td>\n",
       "      <td>2546</td>\n",
       "      <td>819</td>\n",
       "    </tr>\n",
       "    <tr>\n",
       "      <th>28576</th>\n",
       "      <td>28528</td>\n",
       "      <td>0</td>\n",
       "      <td>7.0</td>\n",
       "      <td>12417</td>\n",
       "      <td>11640</td>\n",
       "      <td>1695</td>\n",
       "      <td>33178.0</td>\n",
       "      <td>1492</td>\n",
       "      <td>3</td>\n",
       "      <td>1130</td>\n",
       "      <td>1498</td>\n",
       "    </tr>\n",
       "    <tr>\n",
       "      <th>28577</th>\n",
       "      <td>28529</td>\n",
       "      <td>0</td>\n",
       "      <td>7.0</td>\n",
       "      <td>1745</td>\n",
       "      <td>12181</td>\n",
       "      <td>905</td>\n",
       "      <td>33314.0</td>\n",
       "      <td>1329</td>\n",
       "      <td>3</td>\n",
       "      <td>1170</td>\n",
       "      <td>1502</td>\n",
       "    </tr>\n",
       "    <tr>\n",
       "      <th>28578</th>\n",
       "      <td>28530</td>\n",
       "      <td>0</td>\n",
       "      <td>8.0</td>\n",
       "      <td>8433</td>\n",
       "      <td>15572</td>\n",
       "      <td>2</td>\n",
       "      <td>0.0</td>\n",
       "      <td>1035</td>\n",
       "      <td>3</td>\n",
       "      <td>175</td>\n",
       "      <td>1647</td>\n",
       "    </tr>\n",
       "    <tr>\n",
       "      <th>28579</th>\n",
       "      <td>28531</td>\n",
       "      <td>0</td>\n",
       "      <td>2.0</td>\n",
       "      <td>713</td>\n",
       "      <td>17633</td>\n",
       "      <td>2989</td>\n",
       "      <td>28412.0</td>\n",
       "      <td>1521</td>\n",
       "      <td>3</td>\n",
       "      <td>777</td>\n",
       "      <td>568</td>\n",
       "    </tr>\n",
       "  </tbody>\n",
       "</table>\n",
       "<p>28580 rows × 11 columns</p>\n",
       "</div>"
      ],
      "text/plain": [
       "          ID  DEVICETYPE  PLATFORM_ID  BIDREQUESTIP  USERPLATFORMUID   \n",
       "0          2           0          2.0         12372              936  \\\n",
       "1          3           1          2.0          6274            14095   \n",
       "2          4           0          2.0          2997             4195   \n",
       "3          5           0          7.0         10012             4309   \n",
       "4          6           0          2.0         11873            16653   \n",
       "...      ...         ...          ...           ...              ...   \n",
       "28575  28527           0          2.0          9598             8457   \n",
       "28576  28528           0          7.0         12417            11640   \n",
       "28577  28529           0          7.0          1745            12181   \n",
       "28578  28530           0          8.0          8433            15572   \n",
       "28579  28531           0          2.0           713            17633   \n",
       "\n",
       "       USERCITY  USERZIPCODE  USERAGENT  PLATFORMTYPE   URL  KEYWORDS  \n",
       "0           859      28305.0       1231             3   546       327  \n",
       "1           561      16316.0       2120             3  2280       355  \n",
       "2           594      91724.0       1329             3  2306         1  \n",
       "3           325      11226.0       1357             3   794       413  \n",
       "4          1611      30062.0       1444             3  2508       879  \n",
       "...         ...          ...        ...           ...   ...       ...  \n",
       "28575       325      11215.0       1395             3  2546       819  \n",
       "28576      1695      33178.0       1492             3  1130      1498  \n",
       "28577       905      33314.0       1329             3  1170      1502  \n",
       "28578         2          0.0       1035             3   175      1647  \n",
       "28579      2989      28412.0       1521             3   777       568  \n",
       "\n",
       "[28580 rows x 11 columns]"
      ]
     },
     "execution_count": 84,
     "metadata": {},
     "output_type": "execute_result"
    }
   ],
   "source": [
    "df"
   ]
  },
  {
   "cell_type": "code",
   "execution_count": 85,
   "id": "6f59a39a",
   "metadata": {},
   "outputs": [],
   "source": [
    "# Load the model from the saved file\n",
    "loaded_model = joblib.load('XGBoost.h5')\n",
    "\n",
    "# Use the loaded model for prediction or further processing\n",
    "predictions = loaded_model.predict(df)"
   ]
  },
  {
   "cell_type": "code",
   "execution_count": 86,
   "id": "3da179ed",
   "metadata": {},
   "outputs": [
    {
     "data": {
      "text/plain": [
       "array([1, 0, 0, ..., 1, 0, 0])"
      ]
     },
     "execution_count": 86,
     "metadata": {},
     "output_type": "execute_result"
    }
   ],
   "source": [
    "predictions"
   ]
  },
  {
   "cell_type": "code",
   "execution_count": 87,
   "id": "3647ac23",
   "metadata": {},
   "outputs": [],
   "source": [
    "data = {\n",
    "    'ID': [1001],\n",
    "    'DEVICETYPE': [0],\n",
    "    'PLATFORM_ID': [2],\n",
    "    'BIDREQUESTIP': [6580],\n",
    "    'USERPLATFORMUID': [22184],\n",
    "    'USERCITY': [3178],\n",
    "    'USERZIPCODE': [97206.0],\n",
    "    'USERAGENT': [2858],\n",
    "    'PLATFORMTYPE': [3],\n",
    "    'URL': [666],\n",
    "    'KEYWORDS': [459]\n",
    "}\n",
    "\n",
    "\n",
    "data = {\n",
    "    'ID': [114936],\n",
    "    'DEVICETYPE': [1],\n",
    "    'PLATFORM_ID': [2],\n",
    "    'BIDREQUESTIP': [22764],\n",
    "    'USERPLATFORMUID': [36869],\n",
    "    'USERCITY': [4323],\n",
    "    'USERZIPCODE': [19808.0],\n",
    "    'USERAGENT': [3848],\n",
    "    'PLATFORMTYPE': [3],\n",
    "    'URL': [2387],\n",
    "    'KEYWORDS': [1680]\n",
    "}\n",
    "\n",
    "\n",
    "df = pd.DataFrame(data)"
   ]
  },
  {
   "cell_type": "code",
   "execution_count": 88,
   "id": "611e0640",
   "metadata": {},
   "outputs": [],
   "source": [
    "predictions = loaded_model.predict(df)"
   ]
  },
  {
   "cell_type": "code",
   "execution_count": 89,
   "id": "ce6ccb24",
   "metadata": {},
   "outputs": [
    {
     "data": {
      "text/plain": [
       "array([1])"
      ]
     },
     "execution_count": 89,
     "metadata": {},
     "output_type": "execute_result"
    }
   ],
   "source": [
    "predictions"
   ]
  }
 ],
 "metadata": {
  "kernelspec": {
   "display_name": "Python 3 (ipykernel)",
   "language": "python",
   "name": "python3"
  },
  "language_info": {
   "codemirror_mode": {
    "name": "ipython",
    "version": 3
   },
   "file_extension": ".py",
   "mimetype": "text/x-python",
   "name": "python",
   "nbconvert_exporter": "python",
   "pygments_lexer": "ipython3",
   "version": "3.8.16"
  }
 },
 "nbformat": 4,
 "nbformat_minor": 5
}
