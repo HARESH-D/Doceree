{
 "cells": [
  {
   "cell_type": "code",
   "execution_count": 26,
   "metadata": {},
   "outputs": [],
   "source": [
    "import pandas as pd\n",
    "import seaborn as sns\n",
    "import numpy as np\n",
    "import matplotlib.pyplot as plt\n",
    "from sklearn.preprocessing import OneHotEncoder\n",
    "from sklearn.preprocessing import StandardScaler"
   ]
  },
  {
   "cell_type": "code",
   "execution_count": 2,
   "metadata": {},
   "outputs": [],
   "source": [
    "df1 = pd.read_csv(\"Doceree_Complete_DataSet\\Doceree-HCP_Train.csv\", encoding='latin-1')\n",
    "df2 = pd.read_csv(\"Doceree_Complete_DataSet\\Doceree-HCP_Test.csv\", encoding='latin-1')"
   ]
  },
  {
   "cell_type": "code",
   "execution_count": 3,
   "metadata": {},
   "outputs": [
    {
     "data": {
      "text/html": [
       "<div>\n",
       "<style scoped>\n",
       "    .dataframe tbody tr th:only-of-type {\n",
       "        vertical-align: middle;\n",
       "    }\n",
       "\n",
       "    .dataframe tbody tr th {\n",
       "        vertical-align: top;\n",
       "    }\n",
       "\n",
       "    .dataframe thead th {\n",
       "        text-align: right;\n",
       "    }\n",
       "</style>\n",
       "<table border=\"1\" class=\"dataframe\">\n",
       "  <thead>\n",
       "    <tr style=\"text-align: right;\">\n",
       "      <th></th>\n",
       "      <th>ID</th>\n",
       "      <th>DEVICETYPE</th>\n",
       "      <th>PLATFORM_ID</th>\n",
       "      <th>BIDREQUESTIP</th>\n",
       "      <th>USERPLATFORMUID</th>\n",
       "      <th>USERCITY</th>\n",
       "      <th>USERZIPCODE</th>\n",
       "      <th>USERAGENT</th>\n",
       "      <th>PLATFORMTYPE</th>\n",
       "      <th>CHANNELTYPE</th>\n",
       "      <th>URL</th>\n",
       "      <th>KEYWORDS</th>\n",
       "      <th>TAXONOMY</th>\n",
       "      <th>IS_HCP</th>\n",
       "    </tr>\n",
       "  </thead>\n",
       "  <tbody>\n",
       "    <tr>\n",
       "      <th>0</th>\n",
       "      <td>1001</td>\n",
       "      <td>Desktop</td>\n",
       "      <td>2</td>\n",
       "      <td>170.173.0.22</td>\n",
       "      <td>6974dcaa-f932-480e-9fb5-c52e20e1393a</td>\n",
       "      <td>Portland</td>\n",
       "      <td>97206.0</td>\n",
       "      <td>Mozilla/5.0 (Windows NT 10.0; Win64; x64) Appl...</td>\n",
       "      <td>Online Medical Journal</td>\n",
       "      <td>Website</td>\n",
       "      <td>https://www.cancertherapyadvisor.com/home/canc...</td>\n",
       "      <td>General|Endocrine|False|Medicine|Surgery|Urolo...</td>\n",
       "      <td>NaN</td>\n",
       "      <td>0.0</td>\n",
       "    </tr>\n",
       "    <tr>\n",
       "      <th>1</th>\n",
       "      <td>1002</td>\n",
       "      <td>Desktop</td>\n",
       "      <td>2</td>\n",
       "      <td>65.216.253.25</td>\n",
       "      <td>c12f3f8f-8fcf-484a-90e1-1ac04db8cdcf</td>\n",
       "      <td>Arlington</td>\n",
       "      <td>22202.0</td>\n",
       "      <td>Mozilla/5.0 (Macintosh; Intel Mac OS X 10_15_7...</td>\n",
       "      <td>Online Medical Journal</td>\n",
       "      <td>Website</td>\n",
       "      <td>https://www.cancertherapyadvisor.com/home/deci...</td>\n",
       "      <td>Bone Marrow|Radiography|Chronic|Oncology|Psych...</td>\n",
       "      <td>NaN</td>\n",
       "      <td>0.0</td>\n",
       "    </tr>\n",
       "    <tr>\n",
       "      <th>2</th>\n",
       "      <td>1003</td>\n",
       "      <td>Desktop</td>\n",
       "      <td>2</td>\n",
       "      <td>66.232.79.22</td>\n",
       "      <td>a698de4b-e200-46dd-b5fb-40402175ae18</td>\n",
       "      <td>New Meadows</td>\n",
       "      <td>83654.0</td>\n",
       "      <td>Mozilla/5.0 (Macintosh; Intel Mac OS X 10_15_7...</td>\n",
       "      <td>Online Medical Journal</td>\n",
       "      <td>Website</td>\n",
       "      <td>https://www.cancertherapyadvisor.com/home/canc...</td>\n",
       "      <td>General|Endocrine|False|Medicine|Surgery|Urolo...</td>\n",
       "      <td>NaN</td>\n",
       "      <td>0.0</td>\n",
       "    </tr>\n",
       "    <tr>\n",
       "      <th>3</th>\n",
       "      <td>1004</td>\n",
       "      <td>Desktop</td>\n",
       "      <td>3</td>\n",
       "      <td>137.54.125.246</td>\n",
       "      <td>45967533-75c8-4fbd-a00c-e6ff20447aaa</td>\n",
       "      <td>NaN</td>\n",
       "      <td>229114624.0</td>\n",
       "      <td>Mozilla/5.0 (Windows NT 10.0; Win64; x64) Appl...</td>\n",
       "      <td>Online Medical Journal</td>\n",
       "      <td>Website</td>\n",
       "      <td>https://globalrph.com/medcalcs/warfarin-mainte...</td>\n",
       "      <td>Dental|Total|Clinical|Pharmacology|Physicians|...</td>\n",
       "      <td>2084P0800X</td>\n",
       "      <td>1.0</td>\n",
       "    </tr>\n",
       "    <tr>\n",
       "      <th>4</th>\n",
       "      <td>1005</td>\n",
       "      <td>Mobile</td>\n",
       "      <td>7</td>\n",
       "      <td>174.202.231.99</td>\n",
       "      <td>a17e25be-532d-4cf5-b916-9308c8c3961f</td>\n",
       "      <td>Houston</td>\n",
       "      <td>77008.0</td>\n",
       "      <td>Mozilla/5.0 (iPhone; CPU iPhone OS 16_1_1 like...</td>\n",
       "      <td>Online Medical Journal</td>\n",
       "      <td>Website</td>\n",
       "      <td>https://www.cureus.com/articles/58184-a-review...</td>\n",
       "      <td>Critical Care|Emergency Medicine|General Pract...</td>\n",
       "      <td>NaN</td>\n",
       "      <td>0.0</td>\n",
       "    </tr>\n",
       "  </tbody>\n",
       "</table>\n",
       "</div>"
      ],
      "text/plain": [
       "     ID DEVICETYPE  PLATFORM_ID    BIDREQUESTIP  \\\n",
       "0  1001    Desktop            2    170.173.0.22   \n",
       "1  1002    Desktop            2   65.216.253.25   \n",
       "2  1003    Desktop            2    66.232.79.22   \n",
       "3  1004    Desktop            3  137.54.125.246   \n",
       "4  1005     Mobile            7  174.202.231.99   \n",
       "\n",
       "                        USERPLATFORMUID     USERCITY  USERZIPCODE  \\\n",
       "0  6974dcaa-f932-480e-9fb5-c52e20e1393a     Portland      97206.0   \n",
       "1  c12f3f8f-8fcf-484a-90e1-1ac04db8cdcf    Arlington      22202.0   \n",
       "2  a698de4b-e200-46dd-b5fb-40402175ae18  New Meadows      83654.0   \n",
       "3  45967533-75c8-4fbd-a00c-e6ff20447aaa          NaN  229114624.0   \n",
       "4  a17e25be-532d-4cf5-b916-9308c8c3961f      Houston      77008.0   \n",
       "\n",
       "                                           USERAGENT            PLATFORMTYPE  \\\n",
       "0  Mozilla/5.0 (Windows NT 10.0; Win64; x64) Appl...  Online Medical Journal   \n",
       "1  Mozilla/5.0 (Macintosh; Intel Mac OS X 10_15_7...  Online Medical Journal   \n",
       "2  Mozilla/5.0 (Macintosh; Intel Mac OS X 10_15_7...  Online Medical Journal   \n",
       "3  Mozilla/5.0 (Windows NT 10.0; Win64; x64) Appl...  Online Medical Journal   \n",
       "4  Mozilla/5.0 (iPhone; CPU iPhone OS 16_1_1 like...  Online Medical Journal   \n",
       "\n",
       "  CHANNELTYPE                                                URL  \\\n",
       "0     Website  https://www.cancertherapyadvisor.com/home/canc...   \n",
       "1     Website  https://www.cancertherapyadvisor.com/home/deci...   \n",
       "2     Website  https://www.cancertherapyadvisor.com/home/canc...   \n",
       "3     Website  https://globalrph.com/medcalcs/warfarin-mainte...   \n",
       "4     Website  https://www.cureus.com/articles/58184-a-review...   \n",
       "\n",
       "                                            KEYWORDS    TAXONOMY  IS_HCP  \n",
       "0  General|Endocrine|False|Medicine|Surgery|Urolo...         NaN     0.0  \n",
       "1  Bone Marrow|Radiography|Chronic|Oncology|Psych...         NaN     0.0  \n",
       "2  General|Endocrine|False|Medicine|Surgery|Urolo...         NaN     0.0  \n",
       "3  Dental|Total|Clinical|Pharmacology|Physicians|...  2084P0800X     1.0  \n",
       "4  Critical Care|Emergency Medicine|General Pract...         NaN     0.0  "
      ]
     },
     "execution_count": 3,
     "metadata": {},
     "output_type": "execute_result"
    }
   ],
   "source": [
    "df1.head()"
   ]
  },
  {
   "cell_type": "code",
   "execution_count": 4,
   "metadata": {},
   "outputs": [
    {
     "name": "stdout",
     "output_type": "stream",
     "text": [
      "<class 'pandas.core.frame.DataFrame'>\n",
      "RangeIndex: 113937 entries, 0 to 113936\n",
      "Data columns (total 14 columns):\n",
      " #   Column           Non-Null Count   Dtype  \n",
      "---  ------           --------------   -----  \n",
      " 0   ID               113937 non-null  int64  \n",
      " 1   DEVICETYPE       113937 non-null  object \n",
      " 2   PLATFORM_ID      113937 non-null  int64  \n",
      " 3   BIDREQUESTIP     113937 non-null  object \n",
      " 4   USERPLATFORMUID  113933 non-null  object \n",
      " 5   USERCITY         107578 non-null  object \n",
      " 6   USERZIPCODE      109345 non-null  float64\n",
      " 7   USERAGENT        113935 non-null  object \n",
      " 8   PLATFORMTYPE     113937 non-null  object \n",
      " 9   CHANNELTYPE      113937 non-null  object \n",
      " 10  URL              113937 non-null  object \n",
      " 11  KEYWORDS         113937 non-null  object \n",
      " 12  TAXONOMY         32313 non-null   object \n",
      " 13  IS_HCP           113936 non-null  float64\n",
      "dtypes: float64(2), int64(2), object(10)\n",
      "memory usage: 12.2+ MB\n"
     ]
    }
   ],
   "source": [
    "df1.info()"
   ]
  },
  {
   "cell_type": "code",
   "execution_count": 5,
   "metadata": {},
   "outputs": [
    {
     "data": {
      "text/plain": [
       "0                NaN\n",
       "1                NaN\n",
       "2                NaN\n",
       "3         2084P0800X\n",
       "4                NaN\n",
       "             ...    \n",
       "113932    207RP1001X\n",
       "113933    2084P0800X\n",
       "113934    208000000X\n",
       "113935    2084P0800X\n",
       "113936    2084P0800X\n",
       "Name: TAXONOMY, Length: 113937, dtype: object"
      ]
     },
     "execution_count": 5,
     "metadata": {},
     "output_type": "execute_result"
    }
   ],
   "source": [
    "df1['TAXONOMY']"
   ]
  },
  {
   "cell_type": "code",
   "execution_count": 6,
   "metadata": {},
   "outputs": [
    {
     "data": {
      "text/plain": [
       "ID                     0\n",
       "DEVICETYPE             0\n",
       "PLATFORM_ID            0\n",
       "BIDREQUESTIP           0\n",
       "USERPLATFORMUID        4\n",
       "USERCITY            6359\n",
       "USERZIPCODE         4592\n",
       "USERAGENT              2\n",
       "PLATFORMTYPE           0\n",
       "CHANNELTYPE            0\n",
       "URL                    0\n",
       "KEYWORDS               0\n",
       "TAXONOMY           81624\n",
       "IS_HCP                 1\n",
       "dtype: int64"
      ]
     },
     "execution_count": 6,
     "metadata": {},
     "output_type": "execute_result"
    }
   ],
   "source": [
    "df1.isnull().sum()"
   ]
  },
  {
   "cell_type": "code",
   "execution_count": 7,
   "metadata": {},
   "outputs": [
    {
     "name": "stdout",
     "output_type": "stream",
     "text": [
      "1001      1\n",
      "76956     1\n",
      "76967     1\n",
      "76966     1\n",
      "76965     1\n",
      "         ..\n",
      "38976     1\n",
      "38975     1\n",
      "38974     1\n",
      "38973     1\n",
      "114937    1\n",
      "Name: ID, Length: 113937, dtype: int64\n",
      "(113937, 14)\n"
     ]
    }
   ],
   "source": [
    "print(df1['ID'].value_counts())\n",
    "print(df1.shape)\n",
    "\n",
    "#All the ID are Unique"
   ]
  },
  {
   "cell_type": "code",
   "execution_count": 8,
   "metadata": {},
   "outputs": [
    {
     "data": {
      "text/plain": [
       "Desktop    78423\n",
       "Mobile     32065\n",
       "Tablet      3425\n",
       "Unknown       24\n",
       "Name: DEVICETYPE, dtype: int64"
      ]
     },
     "execution_count": 8,
     "metadata": {},
     "output_type": "execute_result"
    }
   ],
   "source": [
    "df1[\"DEVICETYPE\"].value_counts()\n",
    "\n",
    "#4 categories of Devices"
   ]
  },
  {
   "cell_type": "code",
   "execution_count": null,
   "metadata": {},
   "outputs": [],
   "source": []
  },
  {
   "cell_type": "code",
   "execution_count": 9,
   "metadata": {},
   "outputs": [
    {
     "name": "stdout",
     "output_type": "stream",
     "text": [
      "1001      1\n",
      "76956     1\n",
      "76967     1\n",
      "76966     1\n",
      "76965     1\n",
      "         ..\n",
      "38976     1\n",
      "38975     1\n",
      "38974     1\n",
      "38973     1\n",
      "114937    1\n",
      "Name: ID, Length: 113937, dtype: int64\n",
      "\n",
      "\n",
      "\n",
      "\n",
      "Desktop    78423\n",
      "Mobile     32065\n",
      "Tablet      3425\n",
      "Unknown       24\n",
      "Name: DEVICETYPE, dtype: int64\n",
      "\n",
      "\n",
      "\n",
      "\n",
      "2     79151\n",
      "7     20913\n",
      "9      3891\n",
      "5      3230\n",
      "6      2978\n",
      "10     1037\n",
      "4       745\n",
      "14      725\n",
      "12      544\n",
      "3       479\n",
      "8       130\n",
      "15       42\n",
      "1        40\n",
      "13       31\n",
      "16        1\n",
      "Name: PLATFORM_ID, dtype: int64\n",
      "\n",
      "\n",
      "\n",
      "\n",
      "71.105.120.171     1718\n",
      "142.154.205.202    1143\n",
      "68.132.98.211       866\n",
      "108.175.114.100     727\n",
      "108.175.114.101     707\n",
      "                   ... \n",
      "66.66.9.45            1\n",
      "97.80.251.36          1\n",
      "136.32.32.117         1\n",
      "64.127.133.6          1\n",
      "108.41.233.175        1\n",
      "Name: BIDREQUESTIP, Length: 33664, dtype: int64\n",
      "\n",
      "\n",
      "\n",
      "\n",
      "3e2578c8-f794-41af-a38c-c5cfb3c0f014    1447\n",
      "d76f7c0b-1a64-4d4b-b36d-86c832be8837    1406\n",
      "d00f28d6-3a50-46cd-92f3-8601bd57ad0e     675\n",
      "fcd3d327-0ad5-425e-8ea8-33ffe6a31543     629\n",
      "fe53f32c-4646-4abe-afea-90b21d6b8531     617\n",
      "                                        ... \n",
      "6759cbf8-cf4f-4d0e-9eb8-00808e69e841       1\n",
      "bd2007ca-d0b5-4620-8078-b7c6db62037c       1\n",
      "0534212a-e0e9-49e7-ace9-608e0d0eae8a       1\n",
      "26a06716-2716-4ac2-9131-fa0f01f84526       1\n",
      "d26887c5-15f9-4b72-80dc-728039529e60       1\n",
      "Name: USERPLATFORMUID, Length: 53780, dtype: int64\n",
      "\n",
      "\n",
      "\n",
      "\n",
      "New York          4943\n",
      "Brooklyn          3237\n",
      "St Louis          2545\n",
      "Los Angeles       2154\n",
      "Houston           1747\n",
      "                  ... \n",
      "Foothill Ranch       1\n",
      "Henrietta            1\n",
      "Wartburg             1\n",
      "Winfield             1\n",
      "Gambier              1\n",
      "Name: USERCITY, Length: 4420, dtype: int64\n",
      "\n",
      "\n",
      "\n",
      "\n",
      "63169.0        2116\n",
      "11226.0        1752\n",
      "22202.0        1259\n",
      "10001.0        1190\n",
      "90060.0        1058\n",
      "               ... \n",
      "56748.0           1\n",
      "77021.0           1\n",
      "74880.0           1\n",
      "93630.0           1\n",
      "760865488.0       1\n",
      "Name: USERZIPCODE, Length: 11278, dtype: int64\n",
      "\n",
      "\n",
      "\n",
      "\n",
      "Mozilla/5.0 (Windows NT 10.0; Win64; x64) AppleWebKit/537.36 (KHTML, like Gecko) Chrome/111.0.0.0 Safari/537.36                                                      8380\n",
      "Mozilla/5.0 (Windows NT 10.0; Win64; x64) AppleWebKit/537.36 (KHTML, like Gecko) Chrome/112.0.0.0 Safari/537.36                                                      5721\n",
      "Mozilla/5.0 (Windows NT 10.0; Win64; x64) AppleWebKit/537.36 (KHTML, like Gecko) Chrome/110.0.0.0 Safari/537.36                                                      3868\n",
      "Mozilla/5.0 (Windows NT 10.0; Win64; x64) AppleWebKit/537.36 (KHTML, like Gecko) Chrome/113.0.0.0 Safari/537.36                                                      3757\n",
      "Mozilla/5.0 (iPhone; CPU iPhone OS 16_3_1 like Mac OS X) AppleWebKit/605.1.15 (KHTML, like Gecko) Version/16.3 Mobile/15E148 Safari/604.1                            3480\n",
      "                                                                                                                                                                     ... \n",
      "Mozilla/5.0 (Linux; Android 13; SM-G998U) AppleWebKit/537.36 (KHTML, like Gecko) Chrome/110.0.0.0 Mobile Safari/537.36 EdgA/110.0.1587.66                               1\n",
      "Mozilla/5.0 (Linux; Android 12; SM-S124DL) AppleWebKit/537.36 (KHTML, like Gecko) Chrome/111.0.0.0 Mobile Safari/537.36                                                 1\n",
      "Mozilla/5.0 (Windows NT 10.0; Win64; x64) AppleWebKit/537.36 (KHTML, like Gecko) Chrome/85.0.4183.83 Safari/537.36                                                      1\n",
      "Mozilla/5.0 (Linux; Android 12; SM-A516V Build/SP1A.210812.016; wv) AppleWebKit/537.36 (KHTML, like Gecko) Version/4.0 Chrome/105.0.5195.136 Mobile Safari/537.36       1\n",
      "Mozilla/5.0 (iPhone; CPU iPhone OS 15_4 like Mac OS X) AppleWebKit/605.1.15 (KHTML, like Gecko) CriOS/86.0.4240.93 Mobile/15E148 Safari/604.1                           1\n",
      "Name: USERAGENT, Length: 4288, dtype: int64\n",
      "\n",
      "\n",
      "\n",
      "\n",
      "Online Medical Journal      110120\n",
      "Online Learning Portal        2978\n",
      "Medical News Platform          798\n",
      "Electronic Health Record        40\n",
      "Tele-medicine Platform           1\n",
      "Name: PLATFORMTYPE, dtype: int64\n",
      "\n",
      "\n",
      "\n",
      "\n",
      "Website    113937\n",
      "Name: CHANNELTYPE, dtype: int64\n",
      "\n",
      "\n",
      "\n",
      "\n",
      "https://www.clinicaladvisor.com/home/features/clinical-challenge/pain-tingling-and-limited-range-of-motion-after-a-cat-bite-to-the-finger/                                                                                                                                                                                                                                                                                                                                                                                   5310\n",
      "https://www.gastroenterologyadvisor.com/                                                                                                                                                                                                                                                                                                                                                                                                                                                                                     4299\n",
      "https://www.cureus.com/articles/105482-diverticulitis-with-microperforation                                                                                                                                                                                                                                                                                                                                                                                                                                                  2838\n",
      "https://www.clinicaladvisor.com/home/dermatologic-look-alikes/red-rashes-on-the-lower-legs/2/                                                                                                                                                                                                                                                                                                                                                                                                                                2708\n",
      "https://www.rheumatologyadvisor.com/home/general-rheumatology/deep-dive-overview-of-liver-manifestations-in-rheumatic-diseases/                                                                                                                                                                                                                                                                                                                                                                                              2587\n",
      "                                                                                                                                                                                                                                                                                                                                                                                                                                                                                                                             ... \n",
      "https://www.infectiousdiseaseadvisor.com/home/topics/covid19/mixed-results-for-paxlovid-in-standard-risk-patients-with-covid-19/?utm_source=newsletter&utm_medium=email&utm_campaign=NWSLT_IDA_UPDT_062222_JM&hmEmail=kTgLcihhhDEW1GwCOOdG13UHIqcIj%2F6O&hmSubId=&NID=1316018294&elqTrackId=e3e7472aa24848f5b776f0dfa4cae5e5&elq=e6d2fec6b6d24ee89c79463b98493739&elqaid=353&elqat=1&elqCampaignId=194                                                                                                                          1\n",
      "https://www.clinicaladvisor.com/home/meeting-coverage/acaai-2022/early-atopic-dermatitis-modifies-the-risk-for-allergic-respiratory-disease/?utm_source=newsletter&utm_medium=email&utm_campaign=NWLTR_CAD_CONF_ACAAI_ASTEPRO_112222_RM&hmEmail=Ysc25hIpkOHdmgLIaUrt9Bhfr1jEQITVgqbP1HaB5lo=&sha256email=c372454efec279dee597fd62192657913f5a5108d9d7a648a2d518ed2f4abcad&hmSubId=&NID=1003876251&elqTrackId=031b0c57d3bc455eb8736ad8693830db&elq=db6bd4eba8354842aff4c502062d50df&elqaid=7476&elqat=1&elqCampaignId=6232       1\n",
      "https://www.rheumatologyadvisor.com/home/news/early-screening-and-management-of-cardiovascular-risk-factors-important-in-psoriatic-arthritis-and-ankylosing-spondylitis/?utm_source=google&utm_medium=ppc&utm_campaign=traffic-drivers-rheum&gclid=EAIaIQobChMIpf6cxoWQ_AIVAqvICh1JwA4XEAEYASAAEgKTN_D_BwE                                                                                                                                                                                                                      1\n",
      "https://allmedx.com/q/Flu vaccine lowers risk of stroke?utm_source=Email8271&utm_medium=email&utm_campaign=Email8271&em_tag=94264\u000b\u000b\u000b                                                                                                                                                                                                                                                                                                                                                                                            1\n",
      "https://radrounds.com/radiology-case-images-teaching-file/bilothorax/?fbclid=IwAR3Yw9WM9wiMWr1a1QPTfo4ktG3z5v7TJqCASTbHHi4jNub55m23gxSvsFg                                                                                                                                                                                                                                                                                                                                                                                      1\n",
      "Name: URL, Length: 5231, dtype: int64\n",
      "\n",
      "\n",
      "\n",
      "\n",
      "Family Practice|Drainage|Clinical|Dermatology|Ophthalmology|Medicine|Allergic|General|Diagnosis|Neurology|Hepatology|Health|Cardiovascular|Surgical|Psychiatry|Oral|Urology|Cardiology|Gastroenterology|Orthopedics|Erythema|Arthritis|Asthma|Cellulitis|Pediatrics|Surgery|False|Oncology|Rheumatology                                                                                                                                                                                                                                                                                                                                                                                                                                          5317\n",
      "Transplantation|Technology|Chronic|Neoplasms|Urology|Pancreas|Mental Health|Arthritis|Refractory|Myocardial Infarction|Aged|Cardiology|Oncology|Surgical|Balloon|Anesthesia|Synthetic|Hepatic Transplantation|Diagnosis|Neurology|Ophthalmology|Surgery|Total|Atrial Fibrillation|Overweight|Autoimmune|Atherectomy|Heart Defects|Neonatal|Psychological|Stomach|Metabolic|Hospitals|Graves|Esophagus|Liver|Oral|Rheumatology|Insomnia|Acquired|General|Induced|Gastroenterology|Psychiatry|Angioplasty|Cardiovascular|Child|Arrhythmia|Dermatology|Liver Transplantation|Anxiety Disorders|Delivery|Flu|Small|Resuscitation|Asthma|Pathology|Medicine|Health|Clinical|False|Biliary Tract|Lung|Sleep Disorders|Arrhythmias|Bariatric Surgery    4530\n",
      "Health|Male|Neurological Surgery|Otolaryngology|Preventive Medicine|Surgery|Analgesia|Neutrophils|Resuscitation|Dermatology|Neurology|General|Intravenous|Oral|Surgical|Trauma|Orthopedics|Medicine|Monocytes|Specialties|Preventive|Anastomosis|Physical Medicine & Rehabilitation|Rheumatology|Urology|Critical Care|General Practice|Abscess|Dentistry|Small|Gastroenterology|Cardiac|Technology|Operative|Large|Emergency Medicine|Rehabilitation|Drainage|False|Anesthesiology|Oncology|Ophthalmology|Pediatrics|Transplantation|Clinical|Diagnosis|Metabolic|Pathology|Total|Cardiology|Nuclear Medicine|Psychiatry                                                                                                                        2838\n",
      "Myopathies|Small|Rheumatoid|Psychiatry|Urology|General|False|Chronic|Induced|Total|Neurology|Arthralgia|Joints|Medicine|Health|Connective Tissue Diseases|Intrahepatic|Polyarthritis|Gastroenterology|Autoimmune Diseases|Liver Dysfunction|Liver Diseases|Arthritis|Controlled|Synthetic|Clinical|Metabolic|Cardiology|Rheumatology|Liver|Rheumatic Diseases|Genetic|Autoimmune|Dermatology|Oncology|Ophthalmology                                                                                                                                                                                                                                                                                                                              2741\n",
      "Hemoptysis|Oral|Rheumatology|Cardiovascular|Small|Rheumatoid|Oncology|Ophthalmology|Clinical|Cardiology|Hemorrhage|Health|Biopsy|Hepatology|Hypersensitivity|Refractory|False|Chronic|Psychiatry|Urology|Medicine|Neutrophils|Erythema|Asthma|Diagnosis|Neurology|Orthopedics|Pediatrics|General|Dermatology|Gastroenterology|Surgery|Hematuria|Disseminated Intravascular Coagulation|Arthritis                                                                                                                                                                                                                                                                                                                                                 2708\n",
      "                                                                                                                                                                                                                                                                                                                                                                                                                                                                                                                                                                                                                                                                                                                                                 ... \n",
      "small|hospitals|biliary tract|thrombocytopenia|advanced|rheumatology|hepatology|oncology|angioedema|thyroid carcinoma|physicians|cystic fibrosis|pulmonary fibrosis|induced|alagille syndrome|pulmonary arterial hypertension|neurology|new|pain|myelofibrosis|disease|large|liver|vasculitis|biomarkers|multiple sclerosis|neuromyelitis optica|diagnosis|health|gastroenterology|idiopathic pulmonary fibrosis|cardiology|intrahepatic|the|hematology|clinical|carcinoma|urology|hereditary|hypertension|endocrinology|                                                                                                                                                                                                                           1\n",
      "Medicine|Gastroenterology|Health|Total|Neurology|General|Dermatology|Oral|Psychiatry|Graves|Molecular|Oncology|Graves Disease|Clinical|Ophthalmology|Rheumatology|Urology|False|Cardiology                                                                                                                                                                                                                                                                                                                                                                                                                                                                                                                                                          1\n",
      "biliary tract|rheumatology|stomach|psychiatry|oncology|general|total|pancreas|patient|ophthalmology|neurology|pain|disease|biologics|liver|medicine|gastroenterology|cardiology|the|controlled|hematology|clinical|dermatology|urology|esophagus|endocrinology|                                                                                                                                                                                                                                                                                                                                                                                                                                                                                     1\n",
      "chronic kidney disease|nephrology|rheumatology|psychiatry|lupus|oncology|erectile dysfunction|nephrology|nephritis|general|ophthalmology|chronic|neurology|cardiovascular disease|pain|sleep disorders|disease|large|health|medicine|gastroenterology|cardiovascular|anemia|reproductive|the|clinical|hematology|premature|dermatology|arthritis|carcinoma|transplantation|urology|urinary tract infections|diabetes|hypertension|endocrinology|                                                                                                                                                                                                                                                                                                    1\n",
      "the|lung|educational|pneumonia|radiology|pulmonary fibrosis|dyspnea|technology|pleural effusion|                                                                                                                                                                                                                                                                                                                                                                                                                                                                                                                                                                                                                                                    1\n",
      "Name: KEYWORDS, Length: 2460, dtype: int64\n",
      "\n",
      "\n",
      "\n",
      "\n",
      "2084P0800X    7930\n",
      "2084N0400X    6621\n",
      "207Q00000X    3997\n",
      "207R00000X    3190\n",
      "208000000X     837\n",
      "              ... \n",
      "163WC0400X       1\n",
      "246QM0706X       1\n",
      "1835N1003X       1\n",
      "207RI0008X       1\n",
      "207XX0801X       1\n",
      "Name: TAXONOMY, Length: 207, dtype: int64\n",
      "\n",
      "\n",
      "\n",
      "\n",
      "0.0    79756\n",
      "1.0    34180\n",
      "Name: IS_HCP, dtype: int64\n",
      "\n",
      "\n",
      "\n",
      "\n"
     ]
    }
   ],
   "source": [
    "column_names = df1.columns\n",
    "\n",
    "for column in column_names:\n",
    "    print(df1[column].value_counts())\n",
    "    print(\"\\n\\n\\n\")"
   ]
  },
  {
   "cell_type": "code",
   "execution_count": 10,
   "metadata": {},
   "outputs": [
    {
     "name": "stdout",
     "output_type": "stream",
     "text": [
      "ID  :  113937\n",
      "DEVICETYPE  :  4\n",
      "PLATFORM_ID  :  15\n",
      "BIDREQUESTIP  :  33664\n",
      "USERPLATFORMUID  :  53780\n",
      "USERCITY  :  4420\n",
      "USERZIPCODE  :  11278\n",
      "USERAGENT  :  4288\n",
      "PLATFORMTYPE  :  5\n",
      "CHANNELTYPE  :  1\n",
      "URL  :  5231\n",
      "KEYWORDS  :  2460\n",
      "TAXONOMY  :  207\n",
      "IS_HCP  :  2\n"
     ]
    }
   ],
   "source": [
    "column_names = df1.columns\n",
    "\n",
    "for column in column_names:\n",
    "    print(column,\" : \", df1[column].value_counts().count())"
   ]
  },
  {
   "cell_type": "code",
   "execution_count": 11,
   "metadata": {},
   "outputs": [
    {
     "data": {
      "text/plain": [
       "Desktop    21262\n",
       "Mobile     11268\n",
       "Tablet      1650\n",
       "Name: DEVICETYPE, dtype: int64"
      ]
     },
     "execution_count": 11,
     "metadata": {},
     "output_type": "execute_result"
    }
   ],
   "source": [
    "df1[(df1[\"IS_HCP\"]==1)]['DEVICETYPE'].value_counts()"
   ]
  },
  {
   "cell_type": "code",
   "execution_count": 12,
   "metadata": {},
   "outputs": [
    {
     "data": {
      "text/plain": [
       "Desktop    57161\n",
       "Mobile     20796\n",
       "Tablet      1775\n",
       "Unknown       24\n",
       "Name: DEVICETYPE, dtype: int64"
      ]
     },
     "execution_count": 12,
     "metadata": {},
     "output_type": "execute_result"
    }
   ],
   "source": [
    "df1[(df1[\"IS_HCP\"]==0)]['DEVICETYPE'].value_counts()"
   ]
  },
  {
   "cell_type": "code",
   "execution_count": 13,
   "metadata": {},
   "outputs": [
    {
     "data": {
      "text/plain": [
       "2     24212\n",
       "7      4155\n",
       "9      1437\n",
       "6       946\n",
       "10      825\n",
       "14      725\n",
       "12      544\n",
       "4       500\n",
       "3       479\n",
       "5       216\n",
       "8        59\n",
       "15       42\n",
       "13       31\n",
       "1         9\n",
       "Name: PLATFORM_ID, dtype: int64"
      ]
     },
     "execution_count": 13,
     "metadata": {},
     "output_type": "execute_result"
    }
   ],
   "source": [
    "df1[(df1[\"IS_HCP\"]==1)]['PLATFORM_ID'].value_counts()"
   ]
  },
  {
   "cell_type": "code",
   "execution_count": 14,

   "metadata": {},
   "outputs": [
    {
     "data": {
      "text/plain": [
       "2     54939\n",
       "7     16758\n",
       "5      3014\n",
       "9      2453\n",
       "6      2032\n",
       "4       245\n",
       "10      212\n",
       "8        71\n",
       "1        31\n",
       "16        1\n",
       "Name: PLATFORM_ID, dtype: int64"
      ]
     },
     "execution_count": 14,

     "metadata": {},
     "output_type": "execute_result"
    }
   ],
   "source": [
    "df1[(df1[\"IS_HCP\"]==0)]['PLATFORM_ID'].value_counts()"
   ]
  },
  {
   "cell_type": "code",
   "execution_count": 15,

   "metadata": {},
   "outputs": [
    {
     "data": {
      "text/plain": [
       "Online Medical Journal      32427\n",
       "Online Learning Portal        946\n",
       "Medical News Platform         798\n",
       "Electronic Health Record        9\n",
       "Name: PLATFORMTYPE, dtype: int64"
      ]
     },
     "execution_count": 15,

     "metadata": {},
     "output_type": "execute_result"
    }
   ],
   "source": [
    "df1[(df1[\"IS_HCP\"]==1)]['PLATFORMTYPE'].value_counts()"
   ]
  },
  {
   "cell_type": "code",
   "execution_count": 16,
   "metadata": {},
   "outputs": [
    {
     "data": {
      "text/plain": [
       "Online Medical Journal      77692\n",
       "Online Learning Portal       2032\n",
       "Electronic Health Record       31\n",
       "Tele-medicine Platform          1\n",
       "Name: PLATFORMTYPE, dtype: int64"
      ]
     },
     "execution_count": 16,

     "metadata": {},
     "output_type": "execute_result"
    }
   ],
   "source": [
    "df1[(df1[\"IS_HCP\"]==0)]['PLATFORMTYPE'].value_counts()"
   ]
  },
  {
   "cell_type": "code",
   "execution_count": 17,

   "metadata": {},
   "outputs": [
    {
     "data": {
      "text/plain": [
       "ID                    0\n",
       "DEVICETYPE            0\n",
       "PLATFORM_ID           0\n",
       "BIDREQUESTIP          0\n",
       "USERPLATFORMUID       0\n",
       "USERCITY           1559\n",
       "USERZIPCODE        1115\n",
       "USERAGENT             1\n",
       "PLATFORMTYPE          0\n",
       "CHANNELTYPE           0\n",
       "URL                   0\n",
       "KEYWORDS              0\n",
       "dtype: int64"
      ]
     },
     "execution_count": 17,
     "metadata": {},
     "output_type": "execute_result"
    }
   ],
   "source": [
    "df2.isnull().sum()"
   ]
  },
  {
   "cell_type": "code",
   "execution_count": 18,

   "metadata": {},
   "outputs": [
    {
     "data": {
      "text/plain": [
       "113937"
      ]
     },
     "execution_count": 18,
     "metadata": {},
     "output_type": "execute_result"
    }
   ],
   "source": [
    "len(df1)"

   ]
  },
  {
   "cell_type": "code",
   "execution_count": 21,
   "metadata": {},
   "outputs": [
    {
     "data": {
      "text/plain": [
       "ID      DEVICETYPE  PLATFORM_ID  BIDREQUESTIP     USERPLATFORMUID                       USERCITY       USERZIPCODE  USERAGENT                                                                                                                                        PLATFORMTYPE            CHANNELTYPE  URL                                                                                                                                                                                                                                                                                                                                            KEYWORDS                                                                                                                                                                                                                                                                                                                                                                                                                                                                                                                                                                                                                                                                                                        TAXONOMY    IS_HCP\n",
       "1009    Mobile      2            104.172.116.202  be61a8f7-0f00-487f-8a56-679c819fa01a  Granada Hills  91344.0      Mozilla/5.0 (iPhone; CPU iPhone OS 15_5 like Mac OS X) AppleWebKit/605.1.15 (KHTML, like Gecko) Version/15.5 Mobile/15E148 Safari/604.1          Online Medical Journal  Website      https://www.cancertherapyadvisor.com/home/decision-support-in-medicine/critical-care-medicine/hepatorenal-syndrome-clinician/                                                                                                                                                                                                                  Intensive Care|Shock|Ischemic Heart Disease|Health|Drainage|Liver Transplantation|Transplantation|Controlled|Urology|Critical Care|Erythema|Malnutrition|Hepatology|Hypotension|General|Intrahepatic|Small|Neurology|Lung|Cardiac|Oral|Chronic|Total|Tachycardia|Liver|Angiotensin|Kidney Transplantation|Diagnosis|Endocrine|False|Nervous System|Cardiology|Critical Care Medicine|Ophthalmology|Resuscitation|Adrenal Insufficiency|Intravenous|Metabolic|Gastroenterology|Cardiac Output|Hemorrhage|Diabetes Mellitus|Clinical|Induced|Oncology|Psychiatry|Medicine|Hematuria|Myocardial Ischemia|Respiratory Tract|Intrinsic|Nephritis|Rheumatology|Perfusion|Cardiomyopathy|Refractory|Large|Dermatology  2084P0804X  1.0       1\n",
       "77013   Desktop     2            75.9.79.30       05eabe09-873f-4dd2-b785-0b93f10a7b6e  Milwaukee      53211.0      Mozilla/5.0 (Macintosh; Intel Mac OS X 10_15_7) AppleWebKit/537.36 (KHTML, like Gecko) Chrome/107.0.0.0 Safari/537.36                            Online Medical Journal  Website      https://www.medicalbag.com/                                                                                                                                                                                                                                                                                                                    Genetic|Large|Autoimmune|Health|False|Abortion|Dermatology|Ophthalmology|Heart Failure|Technology|Trauma|Surgery|Flu|Clinical|Lung Abscess|Analgesia|Oncology|Lung|Rheumatoid|Cardiovascular|Anemia|Hereditary|Cardiology|Rheumatology|Abscess|Arthritis|Anesthesia|Lung Diseases|Medicine|Dermatitis|Biliary Tract|Congenital|Oral|Neurology|Molecular|Physicians|Liver|Asthma|Ruptured|Angioedema|Diagnosis|Gastroenterology|Psychiatry|Urology                                                                                                                                                                                                                                                               2084P0800X  1.0       1\n",
       "77083   Mobile      2            24.18.143.217    25e48c5b-ebcf-48a2-8677-de5e54c9eb02  Everett        98201.0      Mozilla/5.0 (iPhone; CPU iPhone OS 15_6_1 like Mac OS X) AppleWebKit/605.1.15 (KHTML, like Gecko) Version/15.6.1 Mobile/15E148 Safari/604.1      Online Medical Journal  Website      https://www.rheumatologyadvisor.com/home/topics/osteoarthritis/neuromuscular-electrical-stimulation-therapy-improves-knee-osteoarthritis-symptoms/                                                                                                                                                                                             Total|Oncology|Psychiatry|Medicine|Arthritis|Cardiology|General|Rheumatoid|Rheumatology|Clinical|Neurology|Health|False|Controlled|Dermatology|Gastroenterology|Ophthalmology|Urology                                                                                                                                                                                                                                                                                                                                                                                                                                                                                                                           207Q00000X  1.0       1\n",
       "77080   Mobile      2            104.230.12.129   f543ae82-1b48-41cd-9a33-269319f081f5  Brunswick      44212.0      Mozilla/5.0 (iPhone; CPU iPhone OS 16_1_2 like Mac OS X) AppleWebKit/605.1.15 (KHTML, like Gecko) Mobile/15E148                                  Online Medical Journal  Website      https://www.rheumatologyadvisor.com/home/news/early-screening-and-management-of-cardiovascular-risk-factors-important-in-psoriatic-arthritis-and-ankylosing-spondylitis/?utm_source=jungroup&utm_medium=ppc&utm_campaign=traffic-drivers-rheum&rwdd=1                                                                                          Arthritis|Urology|Oncology|Rheumatology|Clinical|Total|Medicine|Cardiology|Neurology|Cardiovascular|Gastroenterology|Psychiatry|General|Ophthalmology|False|Rheumatoid|Dermatology                                                                                                                                                                                                                                                                                                                                                                                                                                                                                                                              207R00000X  1.0       1\n",
       "77071   Desktop     2            97.115.116.81    8731b471-a6af-4403-8358-0a194d51f8ca  Portland       97206.0      Mozilla/5.0 (Macintosh; Intel Mac OS X 10_15_6) AppleWebKit/605.1.15 (KHTML, like Gecko) Version/15.5 Safari/605.1.15                            Online Medical Journal  Website      https://www.gastroenterologyadvisor.com/general-gastroenterology/patient-factors-associated-with-appendectomy-within-30-days-of-antibiotics/?utm_source=google&utm_medium=ppc&utm_campaign=jan22-traffic-drivers-gastro&wbraid=ClAKCQjw9suYBhD0ARI_AEV5r0zr-YV3QQdC25E4_P1C9dt-HIZuhxx6jxqDBP18xNRZyzmB-e-Xe3G_eHOugvUByP5DpukiaxIrlZeLGgLz-A  Biliary Tract|Stomach|Metabolic|Neoplasms|Oncology|Anxiety Disorders|Surgery|Dermatology|Gastroenterology|Psychiatry|Liver|Clinical|Transplantation|Hepatic Transplantation|General|Total|Ophthalmology|Rheumatology|Sleep Disorders|Esophagus|Cardiology|False|Urology|Chronic|Neurology|Medicine|Pancreas                                                                                                                                                                                                                                                                                                                                                                                                     2084P0800X  1.0       1\n",
       "                                                                                                                                                                                                                                                                                                                                                                                                                                                                                                                                                                                                                                                                                                                                                                                                                                                                                                                                                                                                                                                                                                                                                                                                                                                                                                                                                                                              ..\n",
       "38758   Mobile      2            68.2.133.8       43b3dec5-26bf-45e7-a482-d55e32d1e6a2  Mesa           85206.0      Mozilla/5.0 (iPhone; CPU iPhone OS 14_8 like Mac OS X) AppleWebKit/605.1.15 (KHTML, like Gecko) Mobile/15E148                                    Online Medical Journal  Website      https://www.rarediseaseadvisor.com/insights/sm-insights/systemic-mastocytosis-pregnancy/?utm_source=jungroup&utm_medium=ppc&utm_campaign=traffic-drivers-rda&wtu_id_h=e922e4f4189330fe80379549a24a437b                                                                                                                                         Angioedema|Gastroenterology|Multiple Sclerosis|Clinical|False|Anesthesia|Bradycardia|Physicians|Health|Neoplastic|Dermatology|Obstetrics & Gynecology|Intensive Care|Thyroid Carcinoma|Urology|Hepatology|Biopsy|Hereditary|Delivery|Obstetric|Reproductive|Cardiology|Oncology|Allergens|Bone Marrow|Child|Neurology|Rheumatology|Large                                                                                                                                                                                                                                                                                                                                                                        207R00000X  1.0       1\n",
       "38757   Mobile      10           71.230.80.242    c34ca4e8-e10c-4fba-8e2b-fa0834660e86  Philadelphia   191044399.0  Mozilla/5.0 (iPhone; CPU iPhone OS 15_5 like Mac OS X) AppleWebKit/605.1.15 (KHTML, like Gecko) Version/15.5 Mobile/15E148 Safari/604.1          Online Medical Journal  Website      https://www.grantsformedical.com/grants-for-parents-with-a-disabled-child.html                                                                                                                                                                                                                                                                 Mental Health|Hospitals|Physicians|Dental|Dermatology|Clinical|Health|Child|Dentistry|False|Surgery|Congenital|Small                                                                                                                                                                                                                                                                                                                                                                                                                                                                                                                                                                                            208000000X  1.0       1\n",
       "38755   Desktop     2            45.50.173.53     d6b0a56a-8820-4a45-8213-fbf98c4f6ddf  Los Angeles    90025.0      Mozilla/5.0 (Macintosh; Intel Mac OS X 10_15_7) AppleWebKit/605.1.15 (KHTML, like Gecko) Version/15.6 Safari/605.1.15                            Online Medical Journal  Website      https://www.empr.com/drug/asthmanefrin/#asthma-copd                                                                                                                                                                                                                                                                                            Tachycardia|Technology|Endocrine|Metabolic|Health|False|Cardiology|Neurology|Cardiovascular|Ophthalmology|Urology|Asthma|Diagnosis|Dermatology|Oncology|Psychiatry|Clinical|Rheumatology|Medicine|Pharmacology|Child|Pediatrics|Physicians|Oral|Gastroenterology                                                                                                                                                                                                                                                                                                                                                                                                                                                207R00000X  1.0       1\n",
       "38752   Mobile      2            50.46.235.57     a3d74595-87c6-4c7a-bfd7-75819bac869b  Redmond        98052.0      Mozilla/5.0 (iPhone; CPU iPhone OS 16_0 like Mac OS X) AppleWebKit/605.1.15 (KHTML, like Gecko) CriOS/107.0.5304.101 Mobile/15E148 Safari/604.1  Online Medical Journal  Website      https://www.cancertherapyadvisor.com/home/cancer-topics/breast-cancer/qa-with-dr-chao-oncotype-dx-breast-recurrence-score-and-breast-dcis-score/4/                                                                                                                                                                                             Lung|Clinical|Gastroenterology|Oncology|Rheumatology|Urology|Ophthalmology|Total|False|Neurology|Multiple Myeloma|Dermatology|Hematology|Chronic|Cardiology|Endocrine|Psychiatry|Medicine|General|Large                                                                                                                                                                                                                                                                                                                                                                                                                                                                                                         207QS0010X  1.0       1\n",
       "114937  Mobile      2            108.41.233.175   d26887c5-15f9-4b72-80dc-728039529e60  White Plains   10605.0      Mozilla/5.0 (iPhone; CPU iPhone OS 16_1 like Mac OS X) AppleWebKit/605.1.15 (KHTML, like Gecko) Version/16.1 Mobile/15E148 Safari/604.1          Online Medical Journal  Website      https://www.medicalbag.com/                                                                                                                                                                                                                                                                                                                    Genetic|Large|Autoimmune|Health|False|Abortion|Dermatology|Ophthalmology|Heart Failure|Technology|Trauma|Surgery|Flu|Clinical|Lung Abscess|Analgesia|Oncology|Lung|Rheumatoid|Cardiovascular|Anemia|Hereditary|Cardiology|Rheumatology|Abscess|Arthritis|Anesthesia|Lung Diseases|Medicine|Dermatitis|Biliary Tract|Congenital|Oral|Neurology|Molecular|Physicians|Liver|Asthma|Ruptured|Angioedema|Diagnosis|Gastroenterology|Psychiatry|Urology                                                                                                                                                                                                                                                               2084P0800X  1.0       1\n",
       "Length: 30543, dtype: int64"
      ]
     },
     "execution_count": 21,
     "metadata": {},
     "output_type": "execute_result"
    }
   ],
   "source": [
    "df1[(df1[\"IS_HCP\"]==1) & (df1['TAXONOMY'])].value_counts()"
   ]
  },
  {
   "cell_type": "code",
   "execution_count": 35,
   "metadata": {},
   "outputs": [
    {
     "name": "stdout",
     "output_type": "stream",
     "text": [
      "32313   34180\n"
     ]
    }
   ],
   "source": [
    "df1[\"TAXONOMY\"] = df1[\"TAXONOMY\"].where(pd.notnull(df1[\"TAXONOMY\"]), None)\n",
    "is_hcp_count = 0\n",
    "is_tax = 0\n",
    "for i in range(len(df1)):\n",
    "    if df1[\"IS_HCP\"][i] == 1:\n",
    "        is_hcp_count += 1\n",
    "        if df1[\"TAXONOMY\"][i] != None:\n",
    "            is_tax += 1\n",
    "\n",
    "print(is_tax,\" \",is_hcp_count)"
   ]
  },
  {
   "cell_type": "code",
   "execution_count": 36,
   "metadata": {},
   "outputs": [
    {
     "name": "stdout",
     "output_type": "stream",
     "text": [
      "0   79756\n"

     ]
    }
   ],
   "source": [
    "df1[\"TAXONOMY\"] = df1[\"TAXONOMY\"].where(pd.notnull(df1[\"TAXONOMY\"]), None)\n",
    "is_hcp_count = 0\n",
    "is_tax = 0\n",
    "for i in range(len(df1)):\n",
    "    if df1[\"IS_HCP\"][i] == 0:\n",
    "        is_hcp_count += 1\n",
    "        if df1[\"TAXONOMY\"][i] != None:\n",
    "            print(df1[\"TAXONOMY\"][i])\n",
    "            is_tax += 1\n",
    "\n",
    "print(is_tax,\" \",is_hcp_count)"
   ]
  },
  {
   "cell_type": "code",
   "execution_count": null,
   "metadata": {},
   "outputs": [],
   "source": []
  }
 ],
 "metadata": {
  "kernelspec": {
   "display_name": "tf_gpu",
   "language": "python",
   "name": "python3"
  },
  "language_info": {
   "codemirror_mode": {
    "name": "ipython",
    "version": 3
   },
   "file_extension": ".py",
   "mimetype": "text/x-python",
   "name": "python",
   "nbconvert_exporter": "python",
   "pygments_lexer": "ipython3",
   "version": "3.9.16"
  },
  "orig_nbformat": 4
 },
 "nbformat": 4,
 "nbformat_minor": 2
}
