{
 "cells": [
  {
   "cell_type": "code",
   "execution_count": 238,
   "metadata": {},
   "outputs": [],
   "source": [
    "import numpy as np\n",
    "import pandas as pd\n",
    "from sklearn.model_selection import train_test_split\n",
    "from sklearn.feature_extraction.text import CountVectorizer\n",
    "from sklearn.preprocessing import LabelEncoder\n",
    "from sklearn.linear_model import SGDClassifier\n",
    "from sklearn.metrics import accuracy_score\n",
    "from sklearn.feature_extraction import FeatureHasher\n",
    "from scipy.sparse import hstack\n",
    "from sklearn.ensemble import RandomForestClassifier\n",
    "from sklearn.ensemble import BaggingClassifier\n"
   ]
  },
  {
   "cell_type": "code",
   "execution_count": 239,
   "metadata": {},
   "outputs": [],
   "source": [
    "# Load the dataset\n",
    "data = pd.read_csv('Doceree-HCP_Train.csv', encoding='latin1')"
   ]
  },
  {
   "cell_type": "code",
   "execution_count": 254,
   "metadata": {},
   "outputs": [],
   "source": [
    "\n",
    "# Separate the features and target variable\n",
    "X = data.drop(['IS_HCP', 'TAXONOMY'], axis=1)\n",
    "y = data['IS_HCP']"
   ]
  },
  {
   "cell_type": "code",
   "execution_count": 255,
   "metadata": {},
   "outputs": [
    {
     "data": {
      "text/html": [
       "<div>\n",
       "<style scoped>\n",
       "    .dataframe tbody tr th:only-of-type {\n",
       "        vertical-align: middle;\n",
       "    }\n",
       "\n",
       "    .dataframe tbody tr th {\n",
       "        vertical-align: top;\n",
       "    }\n",
       "\n",
       "    .dataframe thead th {\n",
       "        text-align: right;\n",
       "    }\n",
       "</style>\n",
       "<table border=\"1\" class=\"dataframe\">\n",
       "  <thead>\n",
       "    <tr style=\"text-align: right;\">\n",
       "      <th></th>\n",
       "      <th>ID</th>\n",
       "      <th>DEVICETYPE</th>\n",
       "      <th>PLATFORM_ID</th>\n",
       "      <th>BIDREQUESTIP</th>\n",
       "      <th>USERPLATFORMUID</th>\n",
       "      <th>USERCITY</th>\n",
       "      <th>USERZIPCODE</th>\n",
       "      <th>USERAGENT</th>\n",
       "      <th>PLATFORMTYPE</th>\n",
       "      <th>CHANNELTYPE</th>\n",
       "      <th>URL</th>\n",
       "      <th>KEYWORDS</th>\n",
       "      <th>TAXONOMY</th>\n",
       "      <th>IS_HCP</th>\n",
       "    </tr>\n",
       "  </thead>\n",
       "  <tbody>\n",
       "    <tr>\n",
       "      <th>0</th>\n",
       "      <td>1001</td>\n",
       "      <td>Desktop</td>\n",
       "      <td>2</td>\n",
       "      <td>170.173.0.22</td>\n",
       "      <td>6974dcaa-f932-480e-9fb5-c52e20e1393a</td>\n",
       "      <td>Portland</td>\n",
       "      <td>97206.0</td>\n",
       "      <td>Mozilla/5.0 (Windows NT 10.0; Win64; x64) Appl...</td>\n",
       "      <td>Online Medical Journal</td>\n",
       "      <td>Website</td>\n",
       "      <td>https://www.cancertherapyadvisor.com/home/canc...</td>\n",
       "      <td>General|Endocrine|False|Medicine|Surgery|Urolo...</td>\n",
       "      <td>NaN</td>\n",
       "      <td>0.0</td>\n",
       "    </tr>\n",
       "    <tr>\n",
       "      <th>1</th>\n",
       "      <td>1002</td>\n",
       "      <td>Desktop</td>\n",
       "      <td>2</td>\n",
       "      <td>65.216.253.25</td>\n",
       "      <td>c12f3f8f-8fcf-484a-90e1-1ac04db8cdcf</td>\n",
       "      <td>Arlington</td>\n",
       "      <td>22202.0</td>\n",
       "      <td>Mozilla/5.0 (Macintosh; Intel Mac OS X 10_15_7...</td>\n",
       "      <td>Online Medical Journal</td>\n",
       "      <td>Website</td>\n",
       "      <td>https://www.cancertherapyadvisor.com/home/deci...</td>\n",
       "      <td>Bone Marrow|Radiography|Chronic|Oncology|Psych...</td>\n",
       "      <td>NaN</td>\n",
       "      <td>0.0</td>\n",
       "    </tr>\n",
       "    <tr>\n",
       "      <th>2</th>\n",
       "      <td>1003</td>\n",
       "      <td>Desktop</td>\n",
       "      <td>2</td>\n",
       "      <td>66.232.79.22</td>\n",
       "      <td>a698de4b-e200-46dd-b5fb-40402175ae18</td>\n",
       "      <td>New Meadows</td>\n",
       "      <td>83654.0</td>\n",
       "      <td>Mozilla/5.0 (Macintosh; Intel Mac OS X 10_15_7...</td>\n",
       "      <td>Online Medical Journal</td>\n",
       "      <td>Website</td>\n",
       "      <td>https://www.cancertherapyadvisor.com/home/canc...</td>\n",
       "      <td>General|Endocrine|False|Medicine|Surgery|Urolo...</td>\n",
       "      <td>NaN</td>\n",
       "      <td>0.0</td>\n",
       "    </tr>\n",
       "    <tr>\n",
       "      <th>3</th>\n",
       "      <td>1004</td>\n",
       "      <td>Desktop</td>\n",
       "      <td>3</td>\n",
       "      <td>137.54.125.246</td>\n",
       "      <td>45967533-75c8-4fbd-a00c-e6ff20447aaa</td>\n",
       "      <td>NaN</td>\n",
       "      <td>229114624.0</td>\n",
       "      <td>Mozilla/5.0 (Windows NT 10.0; Win64; x64) Appl...</td>\n",
       "      <td>Online Medical Journal</td>\n",
       "      <td>Website</td>\n",
       "      <td>https://globalrph.com/medcalcs/warfarin-mainte...</td>\n",
       "      <td>Dental|Total|Clinical|Pharmacology|Physicians|...</td>\n",
       "      <td>2084P0800X</td>\n",
       "      <td>1.0</td>\n",
       "    </tr>\n",
       "    <tr>\n",
       "      <th>4</th>\n",
       "      <td>1005</td>\n",
       "      <td>Mobile</td>\n",
       "      <td>7</td>\n",
       "      <td>174.202.231.99</td>\n",
       "      <td>a17e25be-532d-4cf5-b916-9308c8c3961f</td>\n",
       "      <td>Houston</td>\n",
       "      <td>77008.0</td>\n",
       "      <td>Mozilla/5.0 (iPhone; CPU iPhone OS 16_1_1 like...</td>\n",
       "      <td>Online Medical Journal</td>\n",
       "      <td>Website</td>\n",
       "      <td>https://www.cureus.com/articles/58184-a-review...</td>\n",
       "      <td>Critical Care|Emergency Medicine|General Pract...</td>\n",
       "      <td>NaN</td>\n",
       "      <td>0.0</td>\n",
       "    </tr>\n",
       "  </tbody>\n",
       "</table>\n",
       "</div>"
      ],
      "text/plain": [
       "     ID DEVICETYPE  PLATFORM_ID    BIDREQUESTIP   \n",
       "0  1001    Desktop            2    170.173.0.22  \\\n",
       "1  1002    Desktop            2   65.216.253.25   \n",
       "2  1003    Desktop            2    66.232.79.22   \n",
       "3  1004    Desktop            3  137.54.125.246   \n",
       "4  1005     Mobile            7  174.202.231.99   \n",
       "\n",
       "                        USERPLATFORMUID     USERCITY  USERZIPCODE   \n",
       "0  6974dcaa-f932-480e-9fb5-c52e20e1393a     Portland      97206.0  \\\n",
       "1  c12f3f8f-8fcf-484a-90e1-1ac04db8cdcf    Arlington      22202.0   \n",
       "2  a698de4b-e200-46dd-b5fb-40402175ae18  New Meadows      83654.0   \n",
       "3  45967533-75c8-4fbd-a00c-e6ff20447aaa          NaN  229114624.0   \n",
       "4  a17e25be-532d-4cf5-b916-9308c8c3961f      Houston      77008.0   \n",
       "\n",
       "                                           USERAGENT            PLATFORMTYPE   \n",
       "0  Mozilla/5.0 (Windows NT 10.0; Win64; x64) Appl...  Online Medical Journal  \\\n",
       "1  Mozilla/5.0 (Macintosh; Intel Mac OS X 10_15_7...  Online Medical Journal   \n",
       "2  Mozilla/5.0 (Macintosh; Intel Mac OS X 10_15_7...  Online Medical Journal   \n",
       "3  Mozilla/5.0 (Windows NT 10.0; Win64; x64) Appl...  Online Medical Journal   \n",
       "4  Mozilla/5.0 (iPhone; CPU iPhone OS 16_1_1 like...  Online Medical Journal   \n",
       "\n",
       "  CHANNELTYPE                                                URL   \n",
       "0     Website  https://www.cancertherapyadvisor.com/home/canc...  \\\n",
       "1     Website  https://www.cancertherapyadvisor.com/home/deci...   \n",
       "2     Website  https://www.cancertherapyadvisor.com/home/canc...   \n",
       "3     Website  https://globalrph.com/medcalcs/warfarin-mainte...   \n",
       "4     Website  https://www.cureus.com/articles/58184-a-review...   \n",
       "\n",
       "                                            KEYWORDS    TAXONOMY  IS_HCP  \n",
       "0  General|Endocrine|False|Medicine|Surgery|Urolo...         NaN     0.0  \n",
       "1  Bone Marrow|Radiography|Chronic|Oncology|Psych...         NaN     0.0  \n",
       "2  General|Endocrine|False|Medicine|Surgery|Urolo...         NaN     0.0  \n",
       "3  Dental|Total|Clinical|Pharmacology|Physicians|...  2084P0800X     1.0  \n",
       "4  Critical Care|Emergency Medicine|General Pract...         NaN     0.0  "
      ]
     },
     "execution_count": 255,
     "metadata": {},
     "output_type": "execute_result"
    }
   ],
   "source": [
    "data.head()"
   ]
  },
  {
   "cell_type": "code",
   "execution_count": 257,
   "metadata": {},
   "outputs": [],
   "source": [
    "# Preprocess categorical columns\n",
    "categorical_columns = ['DEVICETYPE', 'PLATFORM_ID', 'BIDREQUESTIP', 'USERPLATFORMUID', 'USERCITY', 'USERAGENT', 'PLATFORMTYPE', 'CHANNELTYPE', 'URL', 'KEYWORDS']\n",
    "X_categorical = X[categorical_columns].astype(str)"
   ]
  },
  {
   "cell_type": "code",
   "execution_count": 258,
   "metadata": {},
   "outputs": [],
   "source": [
    "# Apply feature hashing to categorical columns\n",
    "hasher = FeatureHasher(n_features=1000, input_type='string')\n",
    "hashed_features = hasher.transform(X_categorical.values)"
   ]
  },
  {
   "cell_type": "code",
   "execution_count": 259,
   "metadata": {},
   "outputs": [],
   "source": [
    "# Text-based features: Concatenate and transform using CountVectorizer\n",
    "text_features = X['USERZIPCODE'].astype(str) + ' ' + X['USERAGENT']\n",
    "text_features = text_features.fillna('')  # Replace NaN values with an empty string\n",
    "vectorizer = CountVectorizer()\n",
    "X_text = vectorizer.fit_transform(text_features)"
   ]
  },
  {
   "cell_type": "code",
   "execution_count": 260,
   "metadata": {},
   "outputs": [],
   "source": [
    "# Concatenate all features\n",
    "X_processed = hstack((hashed_features, X_text))"
   ]
  },
  {
   "cell_type": "code",
   "execution_count": 261,
   "metadata": {},
   "outputs": [],
   "source": [
    "# Preprocess string columns\n",
    "string_columns = ['DEVICETYPE', 'BIDREQUESTIP', 'USERPLATFORMUID', 'USERCITY', 'USERAGENT', 'PLATFORMTYPE', 'CHANNELTYPE', 'URL', 'KEYWORDS']\n",
    "for column in string_columns:\n",
    "    if column in X.columns:\n",
    "        X[column] = LabelEncoder().fit_transform(X[column].astype(str))"
   ]
  },
  {
   "cell_type": "code",
   "execution_count": 262,
   "metadata": {},
   "outputs": [],
   "source": [
    "\n",
    "# Split the data into training and testing sets\n",
    "X_train, X_test, y_train, y_test = train_test_split(X_processed, y, test_size=0.3, random_state=42)"
   ]
  },
  {
   "cell_type": "code",
   "execution_count": 263,
   "metadata": {},
   "outputs": [
    {
     "name": "stderr",
     "output_type": "stream",
     "text": [
      "c:\\Users\\DHAKSHESH\\anaconda3\\envs\\techgig\\lib\\site-packages\\sklearn\\linear_model\\_stochastic_gradient.py:163: FutureWarning: The loss 'log' was deprecated in v1.1 and will be removed in version 1.3. Use `loss='log_loss'` which is equivalent.\n",
      "  warnings.warn(\n"
     ]
    },
    {
     "name": "stdout",
     "output_type": "stream",
     "text": [
      "Accuracy is hcp : 0.9414587051285802\n"
     ]
    }
   ],
   "source": [
    "# Train the model using mini-batch learning with SGDClassifier\n",
    "model = SGDClassifier(loss='log', max_iter=1000, random_state=42)\n",
    "batch_size = 1000\n",
    "num_batches = int(np.ceil(X_train.shape[0] / batch_size))\n",
    "\n",
    "for batch_idx in range(num_batches):\n",
    "    start_idx = batch_idx * batch_size\n",
    "    end_idx = min((batch_idx + 1) * batch_size, X_train.shape[0])\n",
    "    model.partial_fit(X_train[start_idx:end_idx], y_train[start_idx:end_idx], classes=np.unique(y_train))\n",
    "\n",
    "y_test = y_test[~np.isnan(y_test)]\n",
    "X_test = X_test[~np.isnan(y_test)]\n",
    "y_pred = model.predict(X_test)\n",
    "accuracy = accuracy_score(y_test, y_pred)\n",
    "print(\"Accuracy is hcp :\", accuracy)"
   ]
  },
  {
   "cell_type": "code",
   "execution_count": 264,
   "metadata": {},
   "outputs": [
    {
     "name": "stdout",
     "output_type": "stream",
     "text": [
      "Accuracy: 0.9649220327082297\n"
     ]
    }
   ],
   "source": [
    "model = RandomForestClassifier()\n",
    "\n",
    "# Fit the model to the training data\n",
    "model.fit(X_train, y_train)\n",
    "\n",
    "# Evaluate the model on the test set\n",
    "y_pred = model.predict(X_test)\n",
    "accuracy = accuracy_score(y_test, y_pred)\n",
    "print(\"Accuracy:\", accuracy)"
   ]
  },
  {
   "cell_type": "code",
   "execution_count": 265,
   "metadata": {},
   "outputs": [],
   "source": [
    "# Load the test dataset\n",
    "test_data = pd.read_csv('Doceree-HCP-Test.csv', encoding='latin1')\n",
    "\n",
    "# Preprocess categorical columns in the test dataset\n",
    "X_test_categorical = test_data[categorical_columns].astype(str)\n",
    "\n",
    "# Apply feature hashing to categorical columns in the test dataset\n",
    "hashed_features_test = hasher.transform(X_test_categorical.values)\n",
    "\n",
    "# Text-based features in the test dataset\n",
    "text_features_test = test_data['USERZIPCODE'].astype(str) + ' ' + test_data['USERAGENT']\n",
    "text_features_test = text_features_test.fillna('')  # Replace NaN values with an empty string\n",
    "X_text_test = vectorizer.transform(text_features_test)\n",
    "\n",
    "# Concatenate all features in the test dataset\n",
    "X_test_processed = hstack((hashed_features_test, X_text_test))\n",
    "\n",
    "# Preprocess string columns in the test dataset\n",
    "for column in string_columns:\n",
    "    if column in test_data.columns:\n",
    "        test_data[column] = LabelEncoder().fit_transform(test_data[column].astype(str))\n",
    "\n",
    "# Predict the target variable 'IS_HCP' using the trained Random Forest model\n",
    "y_pred_is_hcp = model.predict(X_test_processed)\n"
   ]
  },
  {
   "cell_type": "code",
   "execution_count": 270,
   "metadata": {},
   "outputs": [
    {
     "data": {
      "text/plain": [
       "['random_forest_model.h5']"
      ]
     },
     "execution_count": 270,
     "metadata": {},
     "output_type": "execute_result"
    }
   ],
   "source": [
    "import joblib\n",
    "\n",
    "# Fit the model to the training data\n",
    "model.fit(X_train, y_train)\n",
    "\n",
    "# Save the model to an HDF5 file\n",
    "joblib.dump(model, 'random_forest_model.h5')\n"
   ]
  },
  {
   "cell_type": "code",
   "execution_count": 268,
   "metadata": {},
   "outputs": [],
   "source": [
    "# Save the predicted target variable 'IS_HCP' to a CSV file\n",
    "test_data['IS_HCP'] = y_pred_is_hcp\n",
    "test_data.to_csv('predicted_IS_HCP.csv', index=False)"
   ]
  }
 ],
 "metadata": {
  "kernelspec": {
   "display_name": "techgig",
   "language": "python",
   "name": "python3"
  },
  "language_info": {
   "codemirror_mode": {
    "name": "ipython",
    "version": 3
   },
   "file_extension": ".py",
   "mimetype": "text/x-python",
   "name": "python",
   "nbconvert_exporter": "python",
   "pygments_lexer": "ipython3",
   "version": "3.8.16"
  },
  "orig_nbformat": 4
 },
 "nbformat": 4,
 "nbformat_minor": 2
}
